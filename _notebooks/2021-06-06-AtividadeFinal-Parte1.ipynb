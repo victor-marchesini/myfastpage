{
 "cells": [
  {
   "cell_type": "markdown",
   "id": "e4618c60",
   "metadata": {},
   "source": [
    "# Projeto Final da Disciplina Planejamento de Experimentos e Análise Estatística de Dados (EAH-5002)\n",
    "> Informações gerais sobre o dataset, descrição e classificação das variáveis.\n",
    "\n",
    "- toc: true \n",
    "- badges: true\n",
    "- comments: true\n",
    "- categories:\n",
    "- image: images/chart-preview.png\n"
   ]
  },
  {
   "cell_type": "markdown",
   "id": "e5e25373",
   "metadata": {},
   "source": [
    "## Introdução\n",
    "\n",
    "> explicar o que é a letalidade, e qual o critério adotado para o estudo: obito / (obito + cura)\n",
    "\n",
    "^1\n",
    "\n",
    "[Conceitos da Epidemiologia - UFSC](https://unasus2.moodle.ufsc.br/pluginfile.php/33454/mod_resource/content/1/un1/top5_3.html)\n",
    "\n",
    "A partir de algumas variações do conceito de incidência, podemos chegar aos conceitos de:\n",
    "\n",
    "Mortalidade: é uma medida muito utilizada como indicador de saúde; é calculada dividindo-se o número de óbitos pela população em risco. Estudaremos mais sobre essa medida na próxima unidade.\n",
    "\n",
    "Letalidade: é uma medida da gravidade da doença, calculada dividindo-se o número de óbitos por determinada doença pelo número de casos da mesma doença. Algumas doenças apresentam letalidade nula, como, por exemplo, escabiose; já para outras, a letalidade é igual ou próxima de 100%, como a raiva humana."
   ]
  },
  {
   "cell_type": "markdown",
   "id": "aae50ed2",
   "metadata": {},
   "source": [
    "## Informações Gerais\n",
    "- nome do dataset, localização, origem, contexto (do que se trata?)\n",
    "\n",
    "### Nome\n",
    "\n",
    "SRAG 2021 - Banco de Dados de Síndrome Respiratória Aguda Grave - incluindo dados da COVID-19\n",
    "\n",
    "### Localização\n",
    "- Página com informações completas sobre o conjunto de dados: https://opendatasus.saude.gov.br/dataset/bd-srag-2021\n",
    "- Dados: https://s3-sa-east-1.amazonaws.com/ckan.saude.gov.br/SRAG/2021/INFLUD21-29-03-2021.csv\n",
    "\n",
    "### Origem e contexto\n",
    "\n",
    "Desde 2009, com a pandemia de Influenza A(H1N1)pdm09, a Secretaria de Vigilância em Saúde (SVS), vinculada ao Ministério da Saúde, desenvolve a vigilância da Síndrome Respiratória Aguda Grave (SRAG) no Brasil. Em 2020 a vigilância da COVID-19 foi incorporada na rede de vigilância da Influenza e outros vírus respiratórios.\n",
    "\n",
    "Todos os bancos de dados epidemiológicos de SRAG, desde 2009 até os dias atuais (2021), são disponibilizados no portal https://opendatasus.saude.gov.br. \n",
    "\n",
    "O banco de dados \"SRAG 2021\" contém as informações referentes aos casos de SRAG no com início dos primeiros sintomas no ano de 2021. Atualmente, o sistema oficial para o registro dos casos e óbitos de SRAG no Brasil é o Sistema de Informação da Vigilância Epidemiológica da Gripe (SIVEP-Gripe).\n",
    "\n",
    "\n",
    "### Informações adicionais\n",
    "\n",
    "- No Guia de Vigilância Epidemiológica Emergência de Saúde Pública de Importância Nacional pela Doença pelo Coronavírus 2019 estão disponíveis informações sobre definições de casos, critérios de confirmação e encerramento dos casos, dentre outros. [link](https://portalarquivos.saude.gov.br/images/af_gvs_coronavirus_6ago20_ajustes-finais-2.pdf)\n",
    "\n",
    "- Os dados da vigilância de SRAG no Brasil disponibilizados estão sujeitos a alterações decorrentes da investigação pelas equipes de vigilância epidemiológica que desenvolvem o serviço nas três esferas de gestão.\n",
    "\n",
    "- Os dados de 2021 são disponibilizados semanalmente, às quartas-feiras, podendo, excepcionalmente, a atualização ocorrer em outro dia."
   ]
  },
  {
   "cell_type": "code",
   "execution_count": null,
   "id": "7d759b23-37eb-4c85-a564-7885f1017ff9",
   "metadata": {
    "tags": []
   },
   "outputs": [],
   "source": [
    "#hide\n",
    "# %run update_srag_database.py"
   ]
  },
  {
   "cell_type": "code",
   "execution_count": 1,
   "id": "319d68b6-3f41-4a72-8c8a-1f72711b31ac",
   "metadata": {},
   "outputs": [],
   "source": [
    "#hide\n",
    "\n",
    "import sqlite3 as sql\n",
    "import pandas as pd\n",
    "from srag_functions import *\n",
    "# import gc   >> gc.collect(), liberar memória\n",
    "\n",
    "db_name = 'srag'\n",
    "db_path = f'data/opendatasus/{db_name}.db'\n",
    "conn = sql.connect(db_path)\n",
    "df_srag = pd.read_sql(f'SELECT * FROM {db_name} WHERE ano >= 2020', conn)"
   ]
  },
  {
   "cell_type": "code",
   "execution_count": 2,
   "id": "b2659011-e1b9-4a06-ba6e-07abae115b79",
   "metadata": {},
   "outputs": [],
   "source": [
    "#hide\n",
    "\n",
    "assert df_srag.shape[1]==35"
   ]
  },
  {
   "cell_type": "markdown",
   "id": "f7e06cc6-47ed-4726-a045-9b468e33fd44",
   "metadata": {},
   "source": [
    "### Dimensões dos dados: número de casos e características avaliadas"
   ]
  },
  {
   "cell_type": "code",
   "execution_count": 3,
   "id": "969c0fed-100a-43bf-b1cc-fad7de79449d",
   "metadata": {
    "tags": []
   },
   "outputs": [],
   "source": [
    "#hide\n",
    "\n",
    "# # outra opção de consultas...\n",
    "# columns = [x_col,cat_col] + sel_cols\n",
    "# columns = ','.join(columns)\n",
    "\n",
    "# df = pd.read_sql(f'SELECT {columns} FROM srag WHERE ano >= 2020', conn)\n",
    "# df.shape"
   ]
  },
  {
   "cell_type": "code",
   "execution_count": 4,
   "id": "385dd992-0dc9-455c-968d-59793e888b15",
   "metadata": {
    "code_folding": [
     0
    ],
    "tags": []
   },
   "outputs": [
    {
     "name": "stdout",
     "output_type": "stream",
     "text": [
      "> Dimensões:\n",
      "\n",
      "\t2119441 linhas\n",
      "\t35 colunas\n",
      "\n",
      "> Colunas: Index(['DT_SIN_PRI', 'DT_EVOLUCA', 'DT_NASC', 'DT_ENTUTI', 'CO_MUN_RES',\n",
      "       'CO_MU_INTE', 'CO_MUN_NOT', 'SG_UF', 'SG_UF_NOT', 'SG_UF_INTE',\n",
      "       'SEM_PRI', 'EVOLUCAO', 'CLASSI_FIN', 'CLASSI_OUT', 'NU_IDADE_N',\n",
      "       'CS_RACA', 'CS_ESCOL_N', 'CS_SEXO', 'SUPORT_VEN', 'UTI', 'SATURACAO',\n",
      "       'FATOR_RISC', 'dv_idade_anos', 'dv_faixa_etaria', 'dv_SEM_PRI_ABS',\n",
      "       'dv_MUN_RES', 'dv_UF_RES', 'dv_REGIAO_RES', 'dv_MUN_INTE', 'dv_UF_INTE',\n",
      "       'dv_REGIAO_INTE', 'dv_MUN_NOT', 'dv_UF_NOT', 'dv_REGIAO_NOT', 'ano'],\n",
      "      dtype='object')\n"
     ]
    }
   ],
   "source": [
    "#hide\n",
    "\n",
    "# #hide_input\n",
    "# #collapse_output\n",
    "\n",
    "print('> Dimensões:\\n')\n",
    "print(f'\\t{df_srag.shape[0]} linhas\\n\\t{df_srag.shape[1]} colunas')\n",
    "print('\\n> Colunas:',df_srag.columns)\n",
    "# for col,col_type in df_srag.dtypes.sort_index().items():\n",
    "#     print('\\t{:<15}\\t{:<}'.format(col,str(col_type)))\n",
    "    \n",
    "    \n",
    "# max_semana_visualizacao = df_srag.dv_SEM_PRI_ABS.max() - 4"
   ]
  },
  {
   "cell_type": "code",
   "execution_count": 5,
   "id": "2ce31857-6fe7-4fe2-a919-b899a052525c",
   "metadata": {},
   "outputs": [
    {
     "name": "stderr",
     "output_type": "stream",
     "text": [
      "/home/victor/anaconda3/lib/python3.7/site-packages/pandas/core/indexing.py:692: SettingWithCopyWarning: \n",
      "A value is trying to be set on a copy of a slice from a DataFrame\n",
      "\n",
      "See the caveats in the documentation: https://pandas.pydata.org/pandas-docs/stable/user_guide/indexing.html#returning-a-view-versus-a-copy\n",
      "  iloc._setitem_with_indexer(indexer, value, self.name)\n"
     ]
    },
    {
     "data": {
      "text/plain": [
       "(2119442, 10)"
      ]
     },
     "execution_count": 5,
     "metadata": {},
     "output_type": "execute_result"
    }
   ],
   "source": [
    "selected_cols = ['CLASSI_FIN','CS_ESCOL_N','CS_RACA','CS_SEXO'] #CLASSI_OUT\n",
    "# selected_cols += ['DT_SIN_PRI','DT_NASC'\n",
    "selected_cols += ['EVOLUCAO','FATOR_RISC','SG_UF_INTE']\n",
    "selected_cols += ['UTI','SUPORT_VEN'] #'DT_ENTUTI','DT_SAIDUTI']\n",
    "# selected_cols += ['SEM_PRI','dv_SEM_PRI_ABS',]\n",
    "selected_cols += ['dv_idade_anos'] # ano, faixa_etaria\n",
    "df_srag_selected = df_srag[selected_cols] # df_srag_selected = df_srag_selected[selected_cols]\n",
    "df_srag_selected['dv_idade_anos'] = df_srag_selected.['dv_idade_anos'].astype(int)\n",
    "del df_srag  # gc.collect()\n",
    "\n",
    "df_srag_selected.shape"
   ]
  },
  {
   "cell_type": "code",
   "execution_count": 6,
   "id": "11a3e9e9-8bf1-43d4-abe8-57218b237eb2",
   "metadata": {},
   "outputs": [
    {
     "name": "stdout",
     "output_type": "stream",
     "text": [
      "Index(['CLASSI_FIN', 'CS_ESCOL_N', 'CS_RACA', 'CS_SEXO', 'EVOLUCAO',\n",
      "       'FATOR_RISC', 'SG_UF_INTE', 'UTI', 'SUPORT_VEN', 'dv_idade_anos'],\n",
      "      dtype='object')\n",
      "\n",
      "  coluna: SUPORT_VEN\n"
     ]
    },
    {
     "data": {
      "text/plain": [
       "2_sim | nao_invasivo    965179\n",
       "3_nao                   457152\n",
       "1_sim | invasivo        325938\n",
       "nd                      295856\n",
       "ignorado                 75316\n",
       "Name: SUPORT_VEN, dtype: int64"
      ]
     },
     "execution_count": 6,
     "metadata": {},
     "output_type": "execute_result"
    }
   ],
   "source": [
    "print(df_srag_selected.columns)\n",
    "i = 0\n",
    "i_col = 8\n",
    "col = df_srag_selected.columns.tolist()[i_col]\n",
    "# col = 'CS_ESCOL_N'\n",
    "print('\\n  coluna:',col)\n",
    "df_srag_selected[col].value_counts()#[i:i+20] #/ df_srag_selected.shape[0])"
   ]
  },
  {
   "cell_type": "code",
   "execution_count": 7,
   "id": "4881d034-d215-4bfa-8a66-184d0112a02a",
   "metadata": {},
   "outputs": [
    {
     "data": {
      "text/html": [
       "<div>\n",
       "<style scoped>\n",
       "    .dataframe tbody tr th:only-of-type {\n",
       "        vertical-align: middle;\n",
       "    }\n",
       "\n",
       "    .dataframe tbody tr th {\n",
       "        vertical-align: top;\n",
       "    }\n",
       "\n",
       "    .dataframe thead th {\n",
       "        text-align: right;\n",
       "    }\n",
       "</style>\n",
       "<table border=\"1\" class=\"dataframe\">\n",
       "  <thead>\n",
       "    <tr style=\"text-align: right;\">\n",
       "      <th></th>\n",
       "      <th>CLASSI_FIN</th>\n",
       "      <th>CS_ESCOL_N</th>\n",
       "      <th>CS_RACA</th>\n",
       "      <th>CS_SEXO</th>\n",
       "      <th>EVOLUCAO</th>\n",
       "      <th>FATOR_RISC</th>\n",
       "      <th>SG_UF_INTE</th>\n",
       "      <th>UTI</th>\n",
       "      <th>SUPORT_VEN</th>\n",
       "      <th>dv_idade_anos</th>\n",
       "    </tr>\n",
       "  </thead>\n",
       "  <tbody>\n",
       "    <tr>\n",
       "      <th>346</th>\n",
       "      <td>não especificado</td>\n",
       "      <td>nao_se_aplica</td>\n",
       "      <td>branca</td>\n",
       "      <td>M</td>\n",
       "      <td>cura</td>\n",
       "      <td>nao</td>\n",
       "      <td>PE</td>\n",
       "      <td>nd</td>\n",
       "      <td>nd</td>\n",
       "      <td>0.0</td>\n",
       "    </tr>\n",
       "    <tr>\n",
       "      <th>585</th>\n",
       "      <td>não especificado</td>\n",
       "      <td>nao_se_aplica</td>\n",
       "      <td>parda</td>\n",
       "      <td>M</td>\n",
       "      <td>cura</td>\n",
       "      <td>sim</td>\n",
       "      <td>SP</td>\n",
       "      <td>sim</td>\n",
       "      <td>2_sim | nao_invasivo</td>\n",
       "      <td>0.0</td>\n",
       "    </tr>\n",
       "    <tr>\n",
       "      <th>726</th>\n",
       "      <td>não especificado</td>\n",
       "      <td>nao_se_aplica</td>\n",
       "      <td>nd</td>\n",
       "      <td>F</td>\n",
       "      <td>cura</td>\n",
       "      <td>nao</td>\n",
       "      <td>SP</td>\n",
       "      <td>nao</td>\n",
       "      <td>3_nao</td>\n",
       "      <td>0.0</td>\n",
       "    </tr>\n",
       "    <tr>\n",
       "      <th>1837</th>\n",
       "      <td>não especificado</td>\n",
       "      <td>nao_se_aplica</td>\n",
       "      <td>parda</td>\n",
       "      <td>M</td>\n",
       "      <td>nd</td>\n",
       "      <td>nao</td>\n",
       "      <td>TO</td>\n",
       "      <td>nao</td>\n",
       "      <td>3_nao</td>\n",
       "      <td>0.0</td>\n",
       "    </tr>\n",
       "    <tr>\n",
       "      <th>1930</th>\n",
       "      <td>não especificado</td>\n",
       "      <td>nao_se_aplica</td>\n",
       "      <td>parda</td>\n",
       "      <td>M</td>\n",
       "      <td>cura</td>\n",
       "      <td>sim</td>\n",
       "      <td>SP</td>\n",
       "      <td>nao</td>\n",
       "      <td>3_nao</td>\n",
       "      <td>0.0</td>\n",
       "    </tr>\n",
       "    <tr>\n",
       "      <th>...</th>\n",
       "      <td>...</td>\n",
       "      <td>...</td>\n",
       "      <td>...</td>\n",
       "      <td>...</td>\n",
       "      <td>...</td>\n",
       "      <td>...</td>\n",
       "      <td>...</td>\n",
       "      <td>...</td>\n",
       "      <td>...</td>\n",
       "      <td>...</td>\n",
       "    </tr>\n",
       "    <tr>\n",
       "      <th>2118603</th>\n",
       "      <td>nd</td>\n",
       "      <td>nao_se_aplica</td>\n",
       "      <td>branca</td>\n",
       "      <td>F</td>\n",
       "      <td>nd</td>\n",
       "      <td>sim</td>\n",
       "      <td>PB</td>\n",
       "      <td>sim</td>\n",
       "      <td>1_sim | invasivo</td>\n",
       "      <td>0.0</td>\n",
       "    </tr>\n",
       "    <tr>\n",
       "      <th>2119019</th>\n",
       "      <td>não especificado</td>\n",
       "      <td>nao_se_aplica</td>\n",
       "      <td>ignorado</td>\n",
       "      <td>F</td>\n",
       "      <td>nd</td>\n",
       "      <td>nao</td>\n",
       "      <td>MS</td>\n",
       "      <td>sim</td>\n",
       "      <td>2_sim | nao_invasivo</td>\n",
       "      <td>0.0</td>\n",
       "    </tr>\n",
       "    <tr>\n",
       "      <th>2119081</th>\n",
       "      <td>nd</td>\n",
       "      <td>nao_se_aplica</td>\n",
       "      <td>branca</td>\n",
       "      <td>M</td>\n",
       "      <td>nd</td>\n",
       "      <td>nao</td>\n",
       "      <td>MS</td>\n",
       "      <td>nao</td>\n",
       "      <td>3_nao</td>\n",
       "      <td>0.0</td>\n",
       "    </tr>\n",
       "    <tr>\n",
       "      <th>2119121</th>\n",
       "      <td>nd</td>\n",
       "      <td>nao_se_aplica</td>\n",
       "      <td>branca</td>\n",
       "      <td>F</td>\n",
       "      <td>nd</td>\n",
       "      <td>sim</td>\n",
       "      <td>SP</td>\n",
       "      <td>sim</td>\n",
       "      <td>2_sim | nao_invasivo</td>\n",
       "      <td>0.0</td>\n",
       "    </tr>\n",
       "    <tr>\n",
       "      <th>2119209</th>\n",
       "      <td>nd</td>\n",
       "      <td>nao_se_aplica</td>\n",
       "      <td>branca</td>\n",
       "      <td>M</td>\n",
       "      <td>nd</td>\n",
       "      <td>nao</td>\n",
       "      <td>MG</td>\n",
       "      <td>sim</td>\n",
       "      <td>2_sim | nao_invasivo</td>\n",
       "      <td>0.0</td>\n",
       "    </tr>\n",
       "  </tbody>\n",
       "</table>\n",
       "<p>3665 rows × 10 columns</p>\n",
       "</div>"
      ],
      "text/plain": [
       "               CLASSI_FIN     CS_ESCOL_N   CS_RACA CS_SEXO EVOLUCAO  \\\n",
       "346      não especificado  nao_se_aplica    branca       M     cura   \n",
       "585      não especificado  nao_se_aplica     parda       M     cura   \n",
       "726      não especificado  nao_se_aplica        nd       F     cura   \n",
       "1837     não especificado  nao_se_aplica     parda       M       nd   \n",
       "1930     não especificado  nao_se_aplica     parda       M     cura   \n",
       "...                   ...            ...       ...     ...      ...   \n",
       "2118603                nd  nao_se_aplica    branca       F       nd   \n",
       "2119019  não especificado  nao_se_aplica  ignorado       F       nd   \n",
       "2119081                nd  nao_se_aplica    branca       M       nd   \n",
       "2119121                nd  nao_se_aplica    branca       F       nd   \n",
       "2119209                nd  nao_se_aplica    branca       M       nd   \n",
       "\n",
       "        FATOR_RISC SG_UF_INTE  UTI            SUPORT_VEN  dv_idade_anos  \n",
       "346            nao         PE   nd                    nd            0.0  \n",
       "585            sim         SP  sim  2_sim | nao_invasivo            0.0  \n",
       "726            nao         SP  nao                 3_nao            0.0  \n",
       "1837           nao         TO  nao                 3_nao            0.0  \n",
       "1930           sim         SP  nao                 3_nao            0.0  \n",
       "...            ...        ...  ...                   ...            ...  \n",
       "2118603        sim         PB  sim      1_sim | invasivo            0.0  \n",
       "2119019        nao         MS  sim  2_sim | nao_invasivo            0.0  \n",
       "2119081        nao         MS  nao                 3_nao            0.0  \n",
       "2119121        sim         SP  sim  2_sim | nao_invasivo            0.0  \n",
       "2119209        nao         MG  sim  2_sim | nao_invasivo            0.0  \n",
       "\n",
       "[3665 rows x 10 columns]"
      ]
     },
     "execution_count": 7,
     "metadata": {},
     "output_type": "execute_result"
    }
   ],
   "source": [
    "df_srag_selected.query('dv_idade_anos == 0')"
   ]
  },
  {
   "cell_type": "code",
   "execution_count": null,
   "id": "4175c376-e552-4482-9abd-b434658eecf2",
   "metadata": {},
   "outputs": [],
   "source": [
    "df_srag_selected.CLASSI_OUT.unique().shape"
   ]
  },
  {
   "cell_type": "code",
   "execution_count": null,
   "id": "6fbfcfcc-580d-462e-a541-5f915155f229",
   "metadata": {},
   "outputs": [],
   "source": [
    "df_srag_selected.SG_UF_INTE.unique() # query('SG_UF_INTE == \"nd\"')"
   ]
  },
  {
   "cell_type": "code",
   "execution_count": null,
   "id": "f118d9eb-f014-4e26-ba1f-baee671d0cee",
   "metadata": {
    "tags": []
   },
   "outputs": [],
   "source": [
    "# df_srag_selected.query('EVOLUCAO in (\"cura\",\"obito\")')"
   ]
  },
  {
   "cell_type": "code",
   "execution_count": null,
   "id": "eaf94023-d08a-4474-a266-540e0b090321",
   "metadata": {},
   "outputs": [],
   "source": [
    "# df_chart.style.apply(highlight_max,subset=['casos','proporção']).format({'casos':'{:.0f}','proporção':'{:.2%}'})"
   ]
  },
  {
   "cell_type": "code",
   "execution_count": null,
   "id": "28e54385-b682-4012-b47b-b2945652e9ca",
   "metadata": {},
   "outputs": [],
   "source": [
    "def get_proportion_cases(df,index_cols,categories_cols):\n",
    "    df_categories = pd.DataFrame(df.groupby(by=index_cols + categories_cols).size(),columns=['casos']).reset_index()\n",
    "    df_categories = df_categories.pivot(index=index_cols,columns=categories_cols,values='casos')\n",
    "    \n",
    "#     return df_categories\n",
    "    \n",
    "    # ex: se index_cols = ['ano','SEM_PRI'], cada linha terá total por ano e semana\n",
    "    df_subtotal = pd.DataFrame(df.groupby(by=index_cols).size(),columns=['total'])\n",
    "    \n",
    "    # ex: calcula proporção de cada categoria na \"semana\", entre 0.0 e 1.0\n",
    "    df_rel = df_categories.div(df_subtotal.values,axis=0)\n",
    "    \n",
    "    # a princípio considera apenas a primeira categoria\n",
    "    selected_category = categories_cols[0]\n",
    "    \n",
    "    df1 = pd.melt(df_rel,ignore_index=False,value_name='proporção').set_index(selected_category,append=True)\n",
    "    df2 = pd.melt(df_categories,ignore_index=False,value_name='casos').set_index(selected_category,append=True)\n",
    "\n",
    "    return pd.concat([df1,df2],axis=1).reset_index()"
   ]
  },
  {
   "cell_type": "code",
   "execution_count": null,
   "id": "d78bb39b-193d-4bfd-8639-ee31738f195f",
   "metadata": {},
   "outputs": [],
   "source": [
    "df = df_srag_selected.query('EVOLUCAO in (\"cura\",\"obito\")')\n",
    "index_cols = ['SG_UF_INTE']#,'FATOR_RISC']\n",
    "categories_cols = ['EVOLUCAO']\n",
    "\n",
    "\n",
    "\n",
    "df_categories = get_proportion_cases(df,index_cols,categories_cols)\n",
    "\n",
    "\n",
    "# pd.DataFrame(df.groupby(by=index_cols + categories_cols).size(),columns=['casos']).reset_index()\n",
    "df_categories.shape"
   ]
  },
  {
   "cell_type": "code",
   "execution_count": null,
   "id": "c58c1c8d-11a0-4d9c-9686-8436c262c6a4",
   "metadata": {
    "tags": []
   },
   "outputs": [],
   "source": [
    "df_categories.query('EVOLUCAO == \"obito\"').sort_values(by='proporção').style"
   ]
  },
  {
   "cell_type": "code",
   "execution_count": null,
   "id": "5bd53d3e-cd81-4df9-885a-7e7317c006a5",
   "metadata": {
    "tags": []
   },
   "outputs": [],
   "source": []
  },
  {
   "cell_type": "code",
   "execution_count": null,
   "id": "10ab0aca-eda2-4c78-8e3d-84de21f00382",
   "metadata": {},
   "outputs": [],
   "source": []
  },
  {
   "cell_type": "code",
   "execution_count": null,
   "id": "6fc400f0-64bf-4e3f-bd51-ceeaca709cce",
   "metadata": {},
   "outputs": [],
   "source": []
  },
  {
   "cell_type": "code",
   "execution_count": null,
   "id": "e214f018-8c6d-45ec-8929-ecbd064dd309",
   "metadata": {},
   "outputs": [],
   "source": []
  },
  {
   "cell_type": "code",
   "execution_count": null,
   "id": "d7fe582a-2610-4aeb-9f19-fe0f78516b9e",
   "metadata": {},
   "outputs": [],
   "source": []
  },
  {
   "cell_type": "code",
   "execution_count": null,
   "id": "912430aa-36b1-480b-b8ba-d7d8881eec9c",
   "metadata": {},
   "outputs": [],
   "source": []
  },
  {
   "cell_type": "code",
   "execution_count": null,
   "id": "f9f5d0b4-6573-43c9-a8f3-214486dd8cb9",
   "metadata": {},
   "outputs": [],
   "source": []
  },
  {
   "cell_type": "code",
   "execution_count": null,
   "id": "b50bcb3a",
   "metadata": {},
   "outputs": [],
   "source": [
    "#collapse\n",
    "\n",
    "import os.path\n",
    "import ssl\n",
    "from urllib.request import urlopen\n",
    "from bs4 import BeautifulSoup\n",
    "from IPython.display import HTML, Image\n",
    "\n",
    "import dataframe_image as dfi\n",
    "import pandas as pd\n",
    "import seaborn as sns\n",
    "\n",
    "\n",
    "def get_last_bd_srag_csv_url(year=2021):\n",
    "    \n",
    "    available_years = (2020,2021)\n",
    "    if year not in available_years:\n",
    "        print('year not valid. Available years:',available_years)\n",
    "        return\n",
    "    \n",
    "    # Se nao achar, retorna última url encontrada\n",
    "    srag_url = f'https://s3-sa-east-1.amazonaws.com/ckan.saude.gov.br/SRAG/{year}/INFLUD-29-03-2021.csv'\n",
    "    \n",
    "    context = ssl._create_unverified_context() # To aviod ssl error\n",
    "    html_page = urlopen(f'https://opendatasus.saude.gov.br/dataset/bd-srag-{year}', context=context)\n",
    "    soup = BeautifulSoup(html_page, features=\"lxml\")\n",
    "    for link in soup.findAll('a'):\n",
    "        url = link.get('href')\n",
    "        (filename, ext) = os.path.splitext(url)\n",
    "        if ext.lower() == '.csv':\n",
    "            srag_url = url\n",
    "#             print(f'\\nNew csv file url: <{srag_url}>')\n",
    "    \n",
    "    return srag_url\n",
    "\n",
    "def get_srag_data(year=2021,update=True,save_local=False):\n",
    "    \n",
    "    sep = ';'\n",
    "    quotechar = '\"'\n",
    "    \n",
    "    fname = f'dados/INFLUD{year}.csv'\n",
    "    if os.path.isfile(fname) and not update:\n",
    "#         print(f'\\nLendo dados do arquivo local <{fname}>. Se preferir baixar a última versão, usar \"update=True\".\\n')\n",
    "        df = pd.read_csv(fname,dtype=object)\n",
    "    else:\n",
    "        url = get_last_bd_srag_csv_url(year)\n",
    "        print(f'\\nBaixando dados de <{url}> ... ', end='')\n",
    "        df = pd.read_csv(url,sep=sep,quotechar=quotechar,dtype=object)\n",
    "        if save_local:\n",
    "            df.to_csv(fname,index=False)\n",
    "        print('concluído!\\n')\n",
    "           \n",
    "    return df\n",
    "\n",
    "def get_description_df(df_srag,var_dict):\n",
    "    df = df_srag.describe().T\n",
    "    df['Descrição'] = df.index\n",
    "    df = df.replace({'Descrição': var_dict})\n",
    "    df = df.rename(columns={'count':'Contagem',\n",
    "                           'unique':'Valores únicos',\n",
    "                           'top':'Mais frequente',\n",
    "                           'freq':'Maior frequência'})\n",
    "    return df\n",
    "\n",
    "def show_table(df_desc,variables_list=None,start_index=0,rows=None,cols_left=['Descrição'],width=1200):\n",
    "    \n",
    "    if rows:\n",
    "        end_index = start_index + rows\n",
    "    else:\n",
    "        end_index = len(variables_list)\n",
    "        \n",
    "    if variables_list:\n",
    "        if type(variables_list) is dict:\n",
    "            cols = list(variables_list.keys())\n",
    "        elif type(variables_list) is list:\n",
    "            cols = variables_list\n",
    "        \n",
    "        cols= cols[start_index:end_index]\n",
    "        \n",
    "        df = df_desc.loc[cols].reset_index()\n",
    "    else:\n",
    "        df = df_desc.reset_index()\n",
    "    \n",
    "    \n",
    "    df.index = range(start_index + 1,end_index + 1)\n",
    "    df = df.rename(columns={'index':'Variável'})    \n",
    "        \n",
    "    hover_color=\"#00BBBB\"\n",
    "    styles = [ \n",
    "        dict(selector=\"tr:hover\", props=[(\"background-color\", f\"{hover_color}\")]),\n",
    "        dict(selector=\"th\", props=[(\"font-size\", \"110%\"),(\"text-align\", \"center\")]),\n",
    "        dict(selector=\"td\", props=[(\"text-align\", \"center\")])\n",
    "#         dict(selector=f\"tbody .col{index}\", props=[(\"text-align\", \"left\"),('padding-left', '20px')])\n",
    "    ]\n",
    "    if cols_left:\n",
    "        for col in cols_left:\n",
    "            index = df.columns.get_loc(col)\n",
    "            if index >= 0:\n",
    "                styles.append(dict(selector=f\"tbody .col{index}\", props=[(\"width\", \"600px\"),(\"text-align\", \"left\"),('padding-left', '20px')]))\n",
    "        \n",
    "        \n",
    "    df_styled = df.style.set_table_styles(styles)\n",
    "#     dfi.export(df_styled, 'table.png',max_rows=200)\n",
    "#     image = Image(filename='table.png',width=width) \n",
    "    return df_styled"
   ]
  },
  {
   "cell_type": "markdown",
   "id": "95510bb4",
   "metadata": {},
   "source": [
    "## Dimensões da base de dados\n"
   ]
  },
  {
   "cell_type": "code",
   "execution_count": null,
   "id": "fe126dd5",
   "metadata": {},
   "outputs": [],
   "source": [
    "#collapse\n",
    "\n",
    "df_srag = get_srag_data(2021,False)\n",
    "print(f' Número de linhas: {df_srag.shape[0]}\\n Número de colunas: {df_srag.shape[1]}')"
   ]
  },
  {
   "cell_type": "markdown",
   "id": "b272d92a",
   "metadata": {},
   "source": [
    "# Descrição das Variáveis\n",
    "- nome e tipo das variáveis (qualitativa nominal, qualitativa ordinal, quantitativa discreta, quantitativa contínua).\n",
    "\n",
    "Nas seções a seguir serão apresentadas as variáveis para cada tipo classificado. Além da descrição de cada variável, serão fornecidas informações referentes à contagem de valores, número de valores únicos (sem repetição), valor mais frequênte e sua frequência no conjunto de dados."
   ]
  },
  {
   "cell_type": "code",
   "execution_count": null,
   "id": "98eb06f8",
   "metadata": {},
   "outputs": [],
   "source": [
    "#collapse\n",
    "\n",
    "cat_nom = {\n",
    "    'AMOSTRA': 'Foi realizado coleta de amostra para realização de teste diagnóstico?',\n",
    "    'ANTIVIRAL': 'Fez uso de antiviral para tratamento da doença?',\n",
    "    'AN_ADENO': 'Resultado do Teste Antigênico. Adenovírus.',\n",
    "    'AN_OUTRO': 'Resultado do Teste Antigênico. Outro vírus respiratório.',\n",
    "    'AN_PARA1': 'Resultado do Teste Antigênico. Para influenza 1.',\n",
    "    'AN_PARA2': 'Resultado do Teste Antigênico. Para influenza 2.',\n",
    "    'AN_PARA3': 'Resultado do Teste Antigênico. Para influenza 3.',\n",
    "    'AN_SARS2': 'Resultado do Teste Antigênico. Para SARS-CoV-2.',\n",
    "    'AN_VSR': 'Resultado do Teste Antigênico, para VSR.',\n",
    "    'ASMA': 'Paciente possui Asma?',\n",
    "    'AVE_SUINO': 'Caso com contato direto com aves ou suínos.',\n",
    "    'CARDIOPATI': 'Paciente possui Doença Cardiovascular Crônica?',\n",
    "    'CLASSI_FIN': 'Classificação final do caso (diagnóstico).',\n",
    "    'CLASSI_OUT': 'Descrição de qual outro agente etiológico foi identificado (caso 3-SRAG por outra  causa).',\n",
    "    'CO_MUN_NOT': 'Código do Município onde está localizada a Unidade Sentinela que realizou a notificação (conforme tabela IBGE).',\n",
    "    'CO_MUN_RES': 'Código do Município de residência do paciente (conforme tabela IBGE).',\n",
    "    'CO_MU_INTE': 'Código do Município onde está localizada a Unidade de Saúde onde o paciente internou (conforme tabela IBGE).',\n",
    "    'CO_PAIS': 'Código do país de residência do paciente.',\n",
    "    'CO_PS_VGM': 'Código do País de procedência do paciente.',\n",
    "    'CO_REGIONA': 'Código da Regional de Saúde onde está localizado o Município que realizou a notificação (conforme tabela IBGE).',\n",
    "    'CO_RG_INTE': 'Código da Reg onal de Saúde onde está localizado o Município de internação do paciente (conforme tabela IBGE).',\n",
    "    'CO_RG_RESI': 'Código da Regional de Saúde onde está localizado o Município de residência do paciente (conforme tabela IBGE).',\n",
    "    'CO_UNI_NOT': 'Código CNES da Unidade Sentinela que realizou o atendimento, coleta de amostra e registro do caso.',\n",
    "    'CRITERIO': 'Indicar qual o critério de confirmação.',\n",
    "    'CS_ETINIA': 'Nome e código da etnia do paciente, quando indígena.',\n",
    "    'CS_RACA': 'Cor ou raça declarada pelo paciente.',\n",
    "    'CS_SEXO': 'Sexo do paciente.',\n",
    "    'CS_ZONA': 'Zona geográfica do endereço de residência do paciente.',\n",
    "    'DESC_RESP': 'Paciente apresentou desconforto respiratório?',\n",
    "    'DIABETES': 'Paciente possui Diabetes mellitus?',\n",
    "    'DIARREIA': 'Paciente apresentou diarreia?',\n",
    "    'DISPNEIA': 'Paciente apresentou dispneia?',\n",
    "    'DOR_ABD': 'Paciente apresentou dor abdominal?',\n",
    "    'DS_AN_OUT': 'Nome do outro vírus respiratório identificado pelo Teste Antigênico.',\n",
    "    'DS_PCR_OUT': 'Nome do outro vírus respiratório identificado pelo RT-PCR.',\n",
    "    'EVOLUCAO': 'Evolução do caso (desfecho).',\n",
    "    'FADIGA': 'Paciente apresentou fadiga?',\n",
    "    'FATOR_RISC': 'Paciente apresenta algum fator de risco?',\n",
    "    'FEBRE': 'Paciente apresentou febre?',\n",
    "    'FLUASU_OUT': 'Outro subtipo para Influenza A.',\n",
    "    'FLUBLI_OUT': 'Outra linhagem para Influenza B.',\n",
    "    'GARGANTA': 'Paciente apresentou dor de gargante?',\n",
    "    'HEMATOLOGI': 'Paciente possui Doença Hematológica Crônica?',\n",
    "    'HEPATICA': 'Paciente possui Doença Hepática Crônica?',\n",
    "    'HISTO_VGM': 'Paciente tem histórico de viagem internacional até 14 dias antes do início dos sintomas?',\n",
    "    'HOSPITAL': 'O paciente foi internado?',\n",
    "    'ID_MN_INTE': 'ID do Município onde está localizado a Unidade de Saúde onde o paciente internou (conforme tabela IBGE).',\n",
    "    'ID_MN_RESI': 'ID do Município de residência do paciente (conforme tabela IBGE).',\n",
    "    'ID_MUNICIP': 'ID do Município onde está localizada a Unidade Sentinela que realizou a notificação (conforme tabela IBGE).',\n",
    "    'ID_PAIS': 'País de residência do paciente.',\n",
    "    'ID_REGIONA': 'ID da Regional de Saúde onde está localizado o Município que realizou a notificação (conforme tabela IBGE).',\n",
    "    'ID_RG_INTE': 'ID da Re gi onal de Saúde onde  está l oca lizado o Muni cípio de i nte rnação do pa ci ente (conforme tabela IBGE).',\n",
    "    'ID_RG_RESI': 'ID da Regional de Saúde onde está localizado o Município de residência do paciente (conforme tabela IBGE).',\n",
    "    'ID_UNIDADE': 'Unidade Sentinela que realizou o atendimento, coleta de amostra e registro do caso.',\n",
    "    'IMUNODEPRE': 'Paciente possui Imunodeficiência ou Imunodepressão (diminuição da função do sistema imunológico)?',\n",
    "    'LO_PS_VGM': 'Local (cidade, estado, província e outros) onde foi rea lizada a viagem',\n",
    "    'MAE_VAC': 'Se paciente < 6 meses, a mãe recebeu vacina?',\n",
    "    'MORB_DESC': 'Listar outro(s) fator(es) de risco do paciente.',\n",
    "    'M_AMAMENTA': 'Se paciente < 6 meses, a mãe amamenta a criança?',\n",
    "    'NEUROLOGIC': 'Paciente possui Doença Neurológica?',\n",
    "    'NOSOCOMIAL': 'Trata-se decaso nosocomial (infecção adquirida  no hospital)?',\n",
    "    'OBESIDADE': 'Paciente possui obesidade?',\n",
    "    'OUTRO_DES': 'Sinais e Sintomas/Outros (Descrição).',\n",
    "    'OUTRO_SIN': 'Paciente apresentou outro(s) sintoma(s)?',\n",
    "    'OUT_AMOST': 'Descrição do tipo da amostra clínica, caso diferente das listadas nas categorias do campo.',\n",
    "    'OUT_ANIM': 'Animal que o paciente teve contato (se selecionado a  AVE_SUINO = 3-outros).',\n",
    "    'OUT_ANTIV': 'Se o antiviral utilizado não foi Oseltamivir ou Zanamivir, informar qual antiviral foi utilizado.',\n",
    "    'OUT_MORBI': 'Paciente possui outro(s) fator(es) de risco?',\n",
    "    'OUT_SOR': 'Descrição do tipo de Sorologia para  SARS-Cov-2.',\n",
    "    'PAC_COCBO': 'Código da ocupação da Classificação Brasileira de Ocupações(CBO).',\n",
    "    'PAC_DSCBO': 'Descrição da ocupação da Classificação Brasileira de Ocupações(CBO).',\n",
    "    'PAIS_VGM': 'Nome do País de procedência do paciente.',\n",
    "    'PCR_ADENO': 'Resultado diagnóstico do RT-PCR para Adenovírus.',\n",
    "    'PCR_BOCA': 'Resultado diagnóstico do RT-PCR para Bocavírus.',\n",
    "    'PCR_FLUASU': 'Subtipo para Influenza A.',\n",
    "    'PCR_FLUBLI': 'Linhagem para Influenza B.',\n",
    "    'PCR_METAP': 'Resultado diagnóstico do RT-PCR para Metapneumovírus.',\n",
    "    'PCR_OUTRO': 'Resultado diagnóstico do RT-PCR para Outro vírus respiratório.',\n",
    "    'PCR_PARA1': 'Resultado diagnóstico do RT-PCR para influenza 1.',\n",
    "    'PCR_PARA2': 'Resultado diagnóstico do RT-PCR para influenza 2.',\n",
    "    'PCR_PARA3': 'Resultado diagnóstico do RT-PCR para influenza 3.',\n",
    "    'PCR_PARA4': 'Resultado diagnóstico do RT-PCR para influenza 4.',\n",
    "    'PCR_RESUL': 'Resultado do teste de RT-PCR/outro método por Biologia Molecular.',\n",
    "    'PCR_RINO': 'Resultado diagnóstico do RT-PCR para Rinovírus.',\n",
    "    'PCR_SARS2': 'Resultado diagnóstico do RT-PCR para SARS-CoV-2.',\n",
    "    'PCR_VSR': 'Resultado diagnóstico do RT-PCR para VSR.',\n",
    "    'PERD_OLFT': 'Paciente apresentou perda do olfato?',\n",
    "    'PERD_PALA': 'Paciente apresentou perda do paladar?',\n",
    "    'PNEUMOPATI': 'Paciente possui outra pneumopatia crônica?',\n",
    "    'POS_AN_FLU': 'Agente etiológico – Teste Antigênico. Positivo para Influenza?',\n",
    "    'POS_AN_OUT': 'Agente etiológico – Teste Antigênico. Positivo para outros  vírus?',\n",
    "    'POS_PCRFLU': 'Resultado da RT-PCR foi positivo para Influenza?',\n",
    "    'POS_PCROUT': 'Resultado da RT-PCR foi positivo para outro vírus respiratório?',\n",
    "    'PUERPERA': 'Paciente é puérpera ou parturiente (mulher que pariu recentemente–até 45dias do parto)?',\n",
    "    'RAIOX_OUT': 'Resultado do RX de tórax se selecionada a opção 5-Outro.',\n",
    "    'RAIOX_RES': 'Resultado de Raio X de Tórax.',\n",
    "    'RENAL': 'Paciente possui Doença Renal Crônica?',\n",
    "    'RES_AN': 'Resultado do Teste Antigênico.',\n",
    "    'RES_IGA': 'Resultado da Sorologia para SARS-CoV-2 (IgA).',\n",
    "    'RES_IGG': 'Resultado da Sorologia para SARS-CoV-2 (IgG).',\n",
    "    'RES_IGM': 'Resultado da Sorologia para SARS-CoV-2 (IgM).',\n",
    "    'SATURACAO': 'Paciente apresentou saturação O2<95%?',\n",
    "    'SG_UF': 'Unidade Federativa de residência do paciente (conforme tabela IBGE).',\n",
    "    'SG_UF_INTE': 'Unidade Federativa de internação do paciente (conforme tabela IBGE).',\n",
    "    'SG_UF_NOT': 'Unidade Federativa onde está localizada a Unidade Sentinela que  realizou a  notificação (conforme tabela IBGE).',\n",
    "    'SIND_DOWN': 'Paciente possui Síndrome de Down?',\n",
    "    'SOR_OUT': 'Tipo de Amostra Sorológicapara SARS-Cov-2/Outra, qual?',\n",
    "    'SUPORT_VEN': 'O paciente fez uso de suporte ventilatório?',\n",
    "    'SURTO_SG': 'Caso é proveniente de surto de SG?',\n",
    "    'TOMO_OUT': 'Aspecto tomografia/Outro (especificar).',\n",
    "    'TOMO_RES': 'Aspecto tomografia.',\n",
    "    'TOSSE': 'Paciente apresentou tosse?',\n",
    "    'TP_AMOSTRA': 'Tipo da amostra clínica coletada para o teste diagnóstico.',\n",
    "    'TP_AM_SOR': 'Tipo de amostra sorológicapara SARS-Cov-2.',\n",
    "    'TP_ANTIVIR': 'Qual antiviral utilizado?',\n",
    "    'TP_FLU_AN': 'Resultado do Teste Antigênico, para o tipo de Influenza.',\n",
    "    'TP_FLU_PCR': 'Resultado diagnóstico do RT-PCR para o tipo de Influenza.',\n",
    "    'TP_SOR': 'Tipo de Sorologia para  SARS-Cov-2.',\n",
    "    'TP_TES_AN': 'Tipo do teste antigênico que foi realizado.',\n",
    "    'UTI': 'O paciente foi internado em UTI ?',\n",
    "    'VACINA': 'Recebeu vacina contra Gripe na última campanha?',\n",
    "    'VOMITO': 'Paciente apresentou vômito?'\n",
    "}\n",
    "\n",
    "cat_ord = {\n",
    "    'CS_ESCOL_N': 'Nível de escolaridade do paciente.',\n",
    "    'CS_GESTANT': 'Idade gestacional da paciente.',\n",
    "    'COD_IDADE': 'Código referente à idade salva no sistema (TP_IDADE & NU_IDADE_N)',\n",
    "    'TP_IDADE': 'Tipo/Idade (1-Dia, 2-Mês, 3-Ano)',\n",
    "    'NU_IDADE_N': 'Idade informada pelo paciente quando não se sabe a data de nascimento.',\n",
    "}\n",
    "    \n",
    "num_disc = {\n",
    "    'SEM_NOT': 'Semana epidemiológica do preenchimento daficha de notificação.',\n",
    "    'SEM_PRI': 'Semana epidemiológica dos primeiros sintomas.',\n",
    "}\n",
    "\n",
    "num_cont = {\n",
    "    'OBES_IMC': 'Valor do IMC (Índice de Massa Corporal) do paciente calculado pelo profissional de saúde.',\n",
    "}\n",
    "\n",
    "dates_var = {\n",
    "    'DT_1_DOSE': 'Se >= 6 meses e <= 8 anos, data da 1ª dose para crianças vacinadas pela primeira vez.',\n",
    "    'DT_2_DOSE': 'Se >= 6 meses e <= 8 anos, data da 2ª dose para crianças vacinadas pela primeira vez.',\n",
    "    'DT_ANTIVIR': 'Data em que foi iniciado o tratamento com o antiviral.',\n",
    "    'DT_COLETA': 'Data da coleta da amostra para realização do teste diagnóstico.',\n",
    "    'DT_CO_SOR': 'Data da coleta do material para diagnóstico por Sorologia.',\n",
    "    'DT_DIGITA': 'Data de inclusão do registro no sistema.',\n",
    "    'DT_DOSEUNI': 'Se >= 6 meses e <= 8 anos, data da dose única para crianças vacinadas em campanhas de anos anteriores.',\n",
    "    'DT_ENCERRA': 'Data do encerramento do caso.',\n",
    "    'DT_ENTUTI': 'Data de entrada do paciente na Unidade de Terapia Intensiva (UTI).',\n",
    "    'DT_EVOLUCA': 'Data da alta ou óbito.',\n",
    "    'DT_INTERNA': 'Data em que o paciente foi hospitalizado.',\n",
    "    'DT_NASC': 'Data de nascimento do paciente.',\n",
    "    'DT_NOTIFIC': 'Data de preenchimento da ficha de notificação.',\n",
    "    'DT_PCR': 'Data do resultado RT-PCR/outro método por Biologia Molecular.',\n",
    "    'DT_RAIOX': 'Se realizou RX de Tórax, especificar a data do exame.',\n",
    "    'DT_RES': 'Data do resultado do teste sorológico.',\n",
    "    'DT_RES_AN': 'Data  do resultado do teste antigênico.',\n",
    "    'DT_RT_VGM': 'Data  em que retornou de viagem.',\n",
    "    'DT_SAIDUTI': 'Data  em que o paciente saiu da Unidade de Terapia Intensiva (UTI).',\n",
    "    'DT_SIN_PRI': 'Data de primeiros sintomas.',\n",
    "    'DT_TOMO': 'Data da tomografia.',\n",
    "    'DT_UT_DOSE': 'Data da última dose de vacina contra gripe que o paciente tomou.',\n",
    "    'DT_VAC_MAE': 'Se a mãe recebeu vacina, qual a data?',\n",
    "    'DT_VGM': 'Data em que foi realizada a viagem.',\n",
    "}\n",
    "\n",
    "var_dict = {**cat_nom, **cat_ord, **num_disc, **num_cont, **dates_var}\n",
    "df_desc = get_description_df(df_srag,var_dict)"
   ]
  },
  {
   "cell_type": "markdown",
   "id": "e760fcdb",
   "metadata": {},
   "source": [
    "<div style=\"page-break-after: always;\"></div>"
   ]
  },
  {
   "cell_type": "markdown",
   "id": "a2a20765",
   "metadata": {},
   "source": [
    "## Variáveis qualitativas nominais"
   ]
  },
  {
   "cell_type": "code",
   "execution_count": null,
   "id": "f7016fa5",
   "metadata": {},
   "outputs": [],
   "source": [
    "#hide_input\n",
    "\n",
    "print(f'\\nNúmero de variáveis: {len(cat_nom)}\\n')\n",
    "show_table(df_desc,cat_nom)"
   ]
  },
  {
   "cell_type": "code",
   "execution_count": null,
   "id": "ef74ba24",
   "metadata": {},
   "outputs": [],
   "source": [
    "#hide\n",
    "\n",
    "# start_index = 0\n",
    "# rows = 20\n",
    "# show_table(df_desc,cat_nom,start_index,rows)"
   ]
  },
  {
   "cell_type": "code",
   "execution_count": null,
   "id": "903c28b4",
   "metadata": {},
   "outputs": [],
   "source": [
    "#hide\n",
    "\n",
    "# start_index += rows\n",
    "# rows = 50\n",
    "# show_table(df_desc,cat_nom,start_index,rows)"
   ]
  },
  {
   "cell_type": "code",
   "execution_count": null,
   "id": "c63ac2b2",
   "metadata": {},
   "outputs": [],
   "source": [
    "#hide\n",
    "\n",
    "# start_index += rows\n",
    "# show_table(df_desc,cat_nom,start_index,rows=None)"
   ]
  },
  {
   "cell_type": "markdown",
   "id": "6950af19",
   "metadata": {},
   "source": [
    "A seguir, um exemplo de historama para a variável 'PAIS_VGM' (Nome do País de procedência do paciente.):"
   ]
  },
  {
   "cell_type": "code",
   "execution_count": null,
   "id": "4ee3ac26",
   "metadata": {},
   "outputs": [],
   "source": [
    "#collapse\n",
    "\n",
    "col = 'PAIS_VGM'\n",
    "x = df_srag[[col]]#.astype(float)\n",
    "x\n",
    "values_cols = 'DT_SIN_PRI'\n",
    "x = df_srag.groupby(by=col)[values_cols].count().sort_values(ascending=True)\n",
    "ax = x.plot.barh()"
   ]
  },
  {
   "cell_type": "markdown",
   "id": "b3995347",
   "metadata": {},
   "source": [
    "<div style=”page-break-after: always;”></div>"
   ]
  },
  {
   "cell_type": "markdown",
   "id": "3b054884",
   "metadata": {},
   "source": [
    "## Variáveis qualitativas ordinais"
   ]
  },
  {
   "cell_type": "code",
   "execution_count": null,
   "id": "95ea44f0",
   "metadata": {},
   "outputs": [],
   "source": [
    "#collapse\n",
    "\n",
    "print(f'\\nNúmero de variáveis: {len(cat_ord)}\\n')\n",
    "show_table(df_desc,cat_ord)"
   ]
  },
  {
   "cell_type": "markdown",
   "id": "3d010e78",
   "metadata": {},
   "source": [
    "A seguir, um exemplo de historama para a variável 'CS_ESCOL_N' (Nível de escolaridade do paciente):"
   ]
  },
  {
   "cell_type": "code",
   "execution_count": null,
   "id": "7d8de954",
   "metadata": {},
   "outputs": [],
   "source": [
    "#collapse\n",
    "\n",
    "col = 'CS_ESCOL_N'\n",
    "x = df_srag[col].astype(float)\n",
    "ax = sns.histplot(data=x,discrete=False)"
   ]
  },
  {
   "cell_type": "markdown",
   "id": "598af08f",
   "metadata": {},
   "source": [
    "<div style=\"page-break-after: always;\"></div>"
   ]
  },
  {
   "cell_type": "markdown",
   "id": "10db56d8",
   "metadata": {},
   "source": [
    "## Variáveis quantitativas discretas"
   ]
  },
  {
   "cell_type": "code",
   "execution_count": null,
   "id": "08500aff",
   "metadata": {},
   "outputs": [],
   "source": [
    "#collapse\n",
    "\n",
    "print(f'\\nNúmero de variáveis: {len(num_disc)}\\n')\n",
    "show_table(df_desc,num_disc)"
   ]
  },
  {
   "cell_type": "markdown",
   "id": "2725461a",
   "metadata": {},
   "source": [
    "A seguir, um exemplo de historama para a variável 'SEM_PRI' (Semana epidemiológica dos primeiros sintomas):"
   ]
  },
  {
   "cell_type": "code",
   "execution_count": null,
   "id": "8b9aa6f7",
   "metadata": {},
   "outputs": [],
   "source": [
    "#collapse\n",
    "\n",
    "col = 'SEM_PRI'\n",
    "x = df_srag[col].astype(int)\n",
    "ax = sns.histplot(data=x,discrete=True)"
   ]
  },
  {
   "cell_type": "markdown",
   "id": "1eceaf1f",
   "metadata": {},
   "source": [
    "<div style=\"page-break-after: always;\"></div>"
   ]
  },
  {
   "cell_type": "markdown",
   "id": "384a005f",
   "metadata": {},
   "source": [
    "## Variáveis quantitativas contínuas"
   ]
  },
  {
   "cell_type": "code",
   "execution_count": null,
   "id": "0021f24e",
   "metadata": {},
   "outputs": [],
   "source": [
    "#collapse\n",
    "\n",
    "print(f'\\nNúmero de variáveis: {len(num_cont)}\\n')\n",
    "show_table(df_desc,num_cont)"
   ]
  },
  {
   "cell_type": "markdown",
   "id": "1675952e",
   "metadata": {},
   "source": [
    "A seguir, um exemplo de historama para a variável 'OBES_IMC' (Valor do Índice de Massa Corporal do paciente calculado pelo profissional de saúde):"
   ]
  },
  {
   "cell_type": "code",
   "execution_count": null,
   "id": "2ed6b4d3",
   "metadata": {},
   "outputs": [],
   "source": [
    "#collapse\n",
    "\n",
    "col = 'OBES_IMC'\n",
    "x = df_srag[col].str.replace(',','.').astype(float)\n",
    "ax = sns.histplot(data=x,discrete=False)"
   ]
  },
  {
   "cell_type": "markdown",
   "id": "04beae93",
   "metadata": {},
   "source": [
    "<div style=\"page-break-after: always;\"></div>"
   ]
  },
  {
   "cell_type": "markdown",
   "id": "d0696cef",
   "metadata": {},
   "source": [
    "### Variáveis de datas\n",
    "\n",
    "Existem 24 variǘeis com informações referentes a datas. Acredito que essas variáveis possuem características um pouco diferentes das demais, por isso achei que seria interessante criar uma \"subcategoria\". Segundo minha interpretação, as variáveis do tipo data podem ser classificadas em tipos diferentes, a depender da análise que será realizada. A princípio, trataremos essas variáveis como numéricas, ou seja, como uma medida do tempo em que determinado evento ocorreu.\n",
    "\n",
    "Além disso, apesar das datas se referirem apenas a dias \"inteiros\", como as séries analisadas são muito extensas, algumas com milhares de datas, trataremos essas variáveis como contínua. Por isso, entendemos que a melhor classificação para essas seria como \"variáveis quantitativas contínuas\"."
   ]
  },
  {
   "cell_type": "code",
   "execution_count": null,
   "id": "aac8e3bc",
   "metadata": {},
   "outputs": [],
   "source": [
    "#collapse\n",
    "\n",
    "print(f'\\nNúmero de variáveis: {len(dates_var)}\\n')\n",
    "show_table(df_desc,dates_var)"
   ]
  },
  {
   "cell_type": "markdown",
   "id": "6060f0dc",
   "metadata": {},
   "source": [
    "A seguir, um exemplo de historama para a variável 'DT_NASC' (Data de nascimento do paciente):"
   ]
  },
  {
   "cell_type": "code",
   "execution_count": null,
   "id": "44442741",
   "metadata": {},
   "outputs": [],
   "source": [
    "#collapse\n",
    "\n",
    "col = 'DT_NASC'\n",
    "x = pd.to_datetime(df_srag[col], errors='coerce',dayfirst=True)\n",
    "ax = sns.histplot(data=x,discrete=False)"
   ]
  },
  {
   "cell_type": "markdown",
   "id": "6af6de63",
   "metadata": {},
   "source": [
    "<div style=\"page-break-after: always;\"></div>"
   ]
  },
  {
   "cell_type": "markdown",
   "id": "05e96b0f",
   "metadata": {},
   "source": [
    "# Missing Data\n",
    "\n",
    "- há missing data? quantos? em quais variáveis? "
   ]
  },
  {
   "cell_type": "code",
   "execution_count": null,
   "id": "4f80f3b8",
   "metadata": {},
   "outputs": [],
   "source": [
    "#collapse\n",
    "\n",
    "df = df_desc.copy()\n",
    "df['Missing'] = df_srag.shape[0] - df['Contagem']\n",
    "cols = list(df.columns)\n",
    "cols = cols[-1:] + cols[:-1]\n",
    "df = df[cols]\n",
    "# df = df[['missing']]\n",
    "df = df.query('Missing > 0')\n",
    "df = df.sort_values(by='Missing',ascending=False)\n",
    "\n",
    "print(f'\\nNúmero de variáveis com missing values: {len(df)}\\n')\n",
    "show_table(df,list(df.index))"
   ]
  },
  {
   "cell_type": "code",
   "execution_count": null,
   "id": "8971a441",
   "metadata": {},
   "outputs": [],
   "source": [
    "#hide\n",
    "\n",
    "# start_index = 0\n",
    "# rows = 40\n",
    "# show_table(df,list(df.index),start_index,rows)"
   ]
  },
  {
   "cell_type": "code",
   "execution_count": null,
   "id": "02987713",
   "metadata": {},
   "outputs": [],
   "source": [
    "#hide\n",
    "\n",
    "# start_index += rows\n",
    "# rows = 60\n",
    "# show_table(df,list(df.index),start_index,rows)"
   ]
  },
  {
   "cell_type": "code",
   "execution_count": null,
   "id": "4a294ef9",
   "metadata": {},
   "outputs": [],
   "source": [
    "#hide\n",
    "\n",
    "# start_index += rows\n",
    "# show_table(df,list(df.index),start_index)"
   ]
  },
  {
   "cell_type": "code",
   "execution_count": null,
   "id": "a3966829",
   "metadata": {},
   "outputs": [],
   "source": [
    "#hide\n",
    "\n",
    "# df_head = df_srag.head(1000)\n",
    "# fname = 'victormarchesini_dataset1_amostra.csv'\n",
    "# df_head.to_csv(fname,index=False)"
   ]
  },
  {
   "cell_type": "markdown",
   "id": "2b7b3420",
   "metadata": {},
   "source": [
    "## Referências\n",
    "\n",
    "### Is time nominal, ordinal, interval or ratio? Is it categorical or continuous? \n",
    "https://statisticalanalysisconsulting.com/is-time-nominal-ordinal-interval-or-ratio-is-it-categorical-or-continuous/\n",
    "\n",
    "\n",
    "### What is the difference between ordinal, interval and ratio variables? Why should I care?\n",
    "https://www.graphpad.com/support/faq/what-is-the-difference-between-ordinal-interval-and-ratio-variables-why-should-i-care/\n",
    "    \n"
   ]
  },
  {
   "cell_type": "code",
   "execution_count": null,
   "id": "84702d62",
   "metadata": {},
   "outputs": [],
   "source": []
  }
 ],
 "metadata": {
  "kernelspec": {
   "display_name": "Python 3",
   "language": "python",
   "name": "python3"
  },
  "language_info": {
   "codemirror_mode": {
    "name": "ipython",
    "version": 3
   },
   "file_extension": ".py",
   "mimetype": "text/x-python",
   "name": "python",
   "nbconvert_exporter": "python",
   "pygments_lexer": "ipython3",
   "version": "3.7.10"
  }
 },
 "nbformat": 4,
 "nbformat_minor": 5
}
