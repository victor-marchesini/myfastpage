{
 "cells": [
  {
   "cell_type": "markdown",
   "id": "a141994b",
   "metadata": {},
   "source": [
    "1)Supondo que as alturas dos estudantes de uma universidade tenhamdistribuição normal com média 170 cm e desvio padrão 10 cm, encontre osvalores padronizados de:\n",
    "```\n",
    " a) x = 190 cm; \n",
    " b) x = 185 cm; \n",
    " c) x = 170 cm; \n",
    " d) x = 165 cm\n",
    "```"
   ]
  },
  {
   "cell_type": "code",
   "execution_count": 88,
   "id": "2c95de4e",
   "metadata": {},
   "outputs": [],
   "source": [
    "def get_z(x,m,d):\n",
    "    return (x - m )/d"
   ]
  },
  {
   "cell_type": "code",
   "execution_count": 249,
   "id": "b8021f2b",
   "metadata": {},
   "outputs": [
    {
     "name": "stdout",
     "output_type": "stream",
     "text": [
      "x = 190cm, z = 2.0\n",
      "x = 185cm, z = 1.5\n",
      "x = 170cm, z = 0.0\n",
      "x = 165cm, z = -0.5\n"
     ]
    },
    {
     "data": {
      "text/plain": [
       "[None, None, None, None]"
      ]
     },
     "execution_count": 249,
     "metadata": {},
     "output_type": "execute_result"
    }
   ],
   "source": [
    "m = 170\n",
    "d = 10\n",
    "x_list = [190, 185, 170, 165]\n",
    "\n",
    "[print('x = {}cm, z = {}'.format(x,get_z(x,m,d))) for x in x_list]\n",
    "# z(190, 170,10)"
   ]
  },
  {
   "cell_type": "markdown",
   "id": "697b6d66",
   "metadata": {},
   "source": [
    "```\n",
    "2)Suponha  que  as  notas  X  de  um  vestibular  tenham  distribuição  normal  com média  de  60  pontos  e desvio padrão de 15 pontos.\n",
    "\n",
    "  a)Se você prestou esse vestibular e obteve nota x=80 pontos, qual é a sua posição relativa em relação à média dos vestibulandos, em unidade de desvio padrão?\n",
    "  b)Se foram considerados aprovados os candidatos que obtiveram nota mínima correspondente a 1 (um) desvio padrão acima da média, qual é a nota mínima de aprovação na escala original?\n",
    "```"
   ]
  },
  {
   "cell_type": "code",
   "execution_count": 91,
   "id": "eddf4f46",
   "metadata": {},
   "outputs": [
    {
     "name": "stdout",
     "output_type": "stream",
     "text": [
      "1.3333333333333333\n",
      "75\n"
     ]
    }
   ],
   "source": [
    "m = 60\n",
    "d = 15\n",
    "x = 80\n",
    "print(get_z(x,m,d))\n",
    "\n",
    "z_min = 1\n",
    "x = z_min * d + m\n",
    "print(x)"
   ]
  },
  {
   "cell_type": "markdown",
   "id": "39fb4276",
   "metadata": {},
   "source": [
    "```\n",
    "3) Seja Z uma variável aleatóriacom distribuição normal padrão. Calcule:\n",
    "    a) P(Z > 1,65);\n",
    "    b) P(Z < 1,65);\n",
    "    c) P(-1< Z < l);\n",
    "    d) P(-2 < Z < 2);\n",
    "    e) P(-3 < Z < 3);\n",
    "    f) P(Z > 6);\n",
    "    g) o valor de z, tal que P(-z < Z < z) =0,90;\n",
    "    h) o valor de z, tal que P(-z < Z < z) =0,99.\n",
    "```"
   ]
  },
  {
   "cell_type": "code",
   "execution_count": 105,
   "id": "d80940ef",
   "metadata": {},
   "outputs": [],
   "source": [
    "from scipy.stats import norm, binom"
   ]
  },
  {
   "cell_type": "code",
   "execution_count": 106,
   "id": "460ae198",
   "metadata": {},
   "outputs": [
    {
     "data": {
      "text/plain": [
       "0.0494714680336481"
      ]
     },
     "execution_count": 106,
     "metadata": {},
     "output_type": "execute_result"
    }
   ],
   "source": [
    "# a) P(Z > 1,65);\n",
    "1 - norm.cdf(1.65)"
   ]
  },
  {
   "cell_type": "code",
   "execution_count": 107,
   "id": "3dd7a3a1",
   "metadata": {},
   "outputs": [
    {
     "data": {
      "text/plain": [
       "0.9505285319663519"
      ]
     },
     "execution_count": 107,
     "metadata": {},
     "output_type": "execute_result"
    }
   ],
   "source": [
    "# b) P(Z < 1,65);\n",
    "norm.cdf(1.65)"
   ]
  },
  {
   "cell_type": "code",
   "execution_count": 256,
   "id": "180c1c3c",
   "metadata": {},
   "outputs": [
    {
     "data": {
      "text/plain": [
       "1.25"
      ]
     },
     "execution_count": 256,
     "metadata": {},
     "output_type": "execute_result"
    }
   ],
   "source": [
    "15/12"
   ]
  },
  {
   "cell_type": "code",
   "execution_count": 250,
   "id": "a77b98ba",
   "metadata": {},
   "outputs": [
    {
     "name": "stdout",
     "output_type": "stream",
     "text": [
      "0.6826\n"
     ]
    },
    {
     "data": {
      "text/plain": [
       "0.6826894921370859"
      ]
     },
     "execution_count": 250,
     "metadata": {},
     "output_type": "execute_result"
    }
   ],
   "source": [
    "# c) P(-1< Z < l);\n",
    "print(1 - 2*0.1587)\n",
    "norm.cdf(1) - norm.cdf(-1)"
   ]
  },
  {
   "cell_type": "code",
   "execution_count": 252,
   "id": "bd4386be",
   "metadata": {},
   "outputs": [
    {
     "name": "stdout",
     "output_type": "stream",
     "text": [
      "0.9544\n"
     ]
    },
    {
     "data": {
      "text/plain": [
       "0.9544997361036416"
      ]
     },
     "execution_count": 252,
     "metadata": {},
     "output_type": "execute_result"
    }
   ],
   "source": [
    "# d) P(-2 < Z < 2); \n",
    "print(1 - 2*0.0228)\n",
    "norm.cdf(2) - norm.cdf(-2)"
   ]
  },
  {
   "cell_type": "code",
   "execution_count": 253,
   "id": "6108ebc5",
   "metadata": {},
   "outputs": [
    {
     "name": "stdout",
     "output_type": "stream",
     "text": [
      "0.9973\n"
     ]
    },
    {
     "data": {
      "text/plain": [
       "0.9973002039367398"
      ]
     },
     "execution_count": 253,
     "metadata": {},
     "output_type": "execute_result"
    }
   ],
   "source": [
    "# e) P(-3 < Z < 3);\n",
    "print(1 - 2*0.00135)\n",
    "norm.cdf(3) - norm.cdf(-3)"
   ]
  },
  {
   "cell_type": "code",
   "execution_count": 255,
   "id": "0733ace5",
   "metadata": {},
   "outputs": [
    {
     "data": {
      "text/plain": [
       "9.865877004244794e-10"
      ]
     },
     "execution_count": 255,
     "metadata": {},
     "output_type": "execute_result"
    }
   ],
   "source": [
    "# f) P(Z > 6);\n",
    "1- norm.cdf(6)"
   ]
  },
  {
   "cell_type": "code",
   "execution_count": 112,
   "id": "f30cca84",
   "metadata": {},
   "outputs": [
    {
     "data": {
      "text/plain": [
       "0.9000301889217572"
      ]
     },
     "execution_count": 112,
     "metadata": {},
     "output_type": "execute_result"
    }
   ],
   "source": [
    "# g) o valor de z, tal que P(-z < Z < z) =0,90;\n",
    "z = 1.645\n",
    "norm.cdf(z) - norm.cdf(-1*z)"
   ]
  },
  {
   "cell_type": "code",
   "execution_count": 113,
   "id": "59597cb6",
   "metadata": {},
   "outputs": [
    {
     "data": {
      "text/plain": [
       "0.9900000201409898"
      ]
     },
     "execution_count": 113,
     "metadata": {},
     "output_type": "execute_result"
    }
   ],
   "source": [
    "# h) o valor de z, tal que P(-z < Z < z) =0,99.\n",
    "z = 2.57583\n",
    "norm.cdf(z) - norm.cdf(-1*z)"
   ]
  },
  {
   "cell_type": "markdown",
   "id": "ecacf782",
   "metadata": {},
   "source": [
    "```\n",
    "4)Suponha que numa certa região, o peso dos homens adultos tenha distribuição normal com média 70 kg e desvio padrão 16 kg, e o peso das mulheres adultas tenha distribuição normal com média 60 kg e desvio padrão 12 kg. Ao  selecionar uma pessoa ao acaso, o que é mais provável: uma mulher com mais de 75 kg ou um homem com mais de 90 kg? Responda calculando essas probabilidades.\n",
    "```"
   ]
  },
  {
   "cell_type": "code",
   "execution_count": 114,
   "id": "f502da15",
   "metadata": {},
   "outputs": [
    {
     "name": "stdout",
     "output_type": "stream",
     "text": [
      "0.8943502263331446 1.25\n",
      "0.8943502263331446 1.25\n"
     ]
    }
   ],
   "source": [
    "m_h = 70\n",
    "d_h = 16\n",
    "m_m = 60\n",
    "d_m = 12\n",
    "\n",
    "z_h = get_z(90,m_h,d_h)\n",
    "z_m = get_z(75,m_m,d_m)\n",
    "z_m\n",
    "\n",
    "P_h = norm.cdf(z_h)\n",
    "print(P_h,z_h)\n",
    "\n",
    "\n",
    "P_m = norm.cdf(z_m)\n",
    "print(P_m,z_m)"
   ]
  },
  {
   "cell_type": "markdown",
   "id": "51fd3ff7",
   "metadata": {},
   "source": [
    "```\n",
    "5)Considere que na cidade Paraíso, composta de um milhão de habitantes,existam 40% de homens e 60% de mulheres. Numa amostra extraídapor sorteio (amostra aleatória), calcule a probabilidade de se obter mais mulheres do que homens, considerando: \n",
    "   a) que a amostra tenha sido de cinco pessoas; \n",
    "   b) que a amostra tenha sido de cinquenta pessoas.\n",
    "```"
   ]
  },
  {
   "cell_type": "code",
   "execution_count": 269,
   "id": "57cd9038",
   "metadata": {},
   "outputs": [
    {
     "data": {
      "text/plain": [
       "0.3456"
      ]
     },
     "execution_count": 269,
     "metadata": {},
     "output_type": "execute_result"
    }
   ],
   "source": [
    ".6*.6*.6*.4*0.4 * 10"
   ]
  },
  {
   "cell_type": "code",
   "execution_count": 265,
   "id": "f40f71b5",
   "metadata": {},
   "outputs": [
    {
     "name": "stdout",
     "output_type": "stream",
     "text": [
      "0 0.07776 0.07776\n",
      "1 0.2591999999999999 0.33695999999999987\n",
      "2 0.3455999999999999 0.6825599999999998\n"
     ]
    },
    {
     "data": {
      "text/plain": [
       "0.6825599999999998"
      ]
     },
     "execution_count": 265,
     "metadata": {},
     "output_type": "execute_result"
    }
   ],
   "source": [
    "n = 5\n",
    "p = .4\n",
    "\n",
    "bin_h = binom(n,p)\n",
    "# bin_m = binom(n,1-p)\n",
    "\n",
    "# P_m = 0\n",
    "# for k in range(3,n+1):\n",
    "#     P_m += bin_m.pmf(k)\n",
    "#     print(k,P_m)\n",
    "\n",
    "P_h = 0\n",
    "for k in range(3):\n",
    "    P_h += bin_h.pmf(k)\n",
    "    print(k,bin_h.pmf(k),P_h)\n",
    "P_m\n",
    "\n",
    "# P_m = bin_h.pmf(k)"
   ]
  },
  {
   "cell_type": "code",
   "execution_count": 272,
   "id": "502d6565",
   "metadata": {},
   "outputs": [
    {
     "data": {
      "text/plain": [
       "3.4641016151377544"
      ]
     },
     "execution_count": 272,
     "metadata": {},
     "output_type": "execute_result"
    }
   ],
   "source": [
    "n = 50\n",
    "p = 0.4\n",
    "(n*p * (1-p))**0.5"
   ]
  },
  {
   "cell_type": "code",
   "execution_count": 277,
   "id": "b4e073ba",
   "metadata": {},
   "outputs": [
    {
     "name": "stdout",
     "output_type": "stream",
     "text": [
      "-0.9021926358467505\n",
      "0 8.082812774647628e-12\n",
      "1 2.7750990526290317e-10\n",
      "2 4.678152415904374e-09\n",
      "3 5.161833919607912e-08\n",
      "4 4.193164689741242e-07\n",
      "5 2.6745316649460575e-06\n",
      "6 1.3950607644806175e-05\n",
      "7 6.120273556041001e-05\n",
      "8 0.00023052286059132584\n",
      "9 0.0007572965829097239\n",
      "10 0.002197144757246667\n",
      "11 0.005687685785942324\n",
      "12 0.013250524681449513\n",
      "13 0.027988364580387032\n",
      "14 0.05395503487851412\n",
      "15 0.09550170735551787\n",
      "16 0.1560906047178154\n",
      "17 0.2368758012008766\n",
      "18 0.33561326356906485\n",
      "19 0.44647637921053934\n",
      "20 0.5610349320400628\n",
      "21 0.670138315687229\n",
      "22 0.7660170467710998\n",
      "23 0.84383166910004\n",
      "24 0.9021926358467448\n",
      "24.0 0.9021926358467505\n",
      "24.5 0.9030345738587946\n"
     ]
    },
    {
     "data": {
      "text/plain": [
       "0.09332131283181777"
      ]
     },
     "execution_count": 277,
     "metadata": {},
     "output_type": "execute_result"
    }
   ],
   "source": [
    "# b) que a amostra tenha sido de cinquenta pessoas.\n",
    "n = 50\n",
    "p = 0.4\n",
    "m = n*p\n",
    "d = (m * (1-p))**0.5\n",
    "\n",
    "\n",
    "bin_h = binom(n,p)\n",
    "# print(z_h,X,k)\n",
    "print( - bin_h.cdf(k))\n",
    "# # print()\n",
    "# print(1-norm.cdf(z_h))\n",
    "# print(1-bin_h.cdf(k))\n",
    "\n",
    "\n",
    "P_h = 0\n",
    "for k in range(int(n/2)):\n",
    "    P_h += bin_h.pmf(k)\n",
    "    print(k,P_h)\n",
    "k = n/2 - 1\n",
    "print(k, bin_h.cdf(k))\n",
    "\n",
    "X = k + 0.5\n",
    "z_h = get_z(X,m,d)\n",
    "norm.cdf(z_h)\n",
    "\n",
    "print(X, norm.cdf(get_z(X,m,d)))\n",
    "\n",
    "((norm.cdf(z_h) / bin_h.cdf(k)) - 1 )*100"
   ]
  },
  {
   "cell_type": "code",
   "execution_count": 280,
   "id": "fb2402e5",
   "metadata": {},
   "outputs": [
    {
     "data": {
      "text/plain": [
       "0.9032"
      ]
     },
     "execution_count": 280,
     "metadata": {},
     "output_type": "execute_result"
    }
   ],
   "source": [
    "4.5 / 3.464\n",
    "1-0.0968"
   ]
  },
  {
   "cell_type": "code",
   "execution_count": 281,
   "id": "47695b5b",
   "metadata": {},
   "outputs": [
    {
     "name": "stdout",
     "output_type": "stream",
     "text": [
      "0.9426562394577995\n"
     ]
    }
   ],
   "source": [
    "n = 50\n",
    "p = 0.4\n",
    "bin_h = binom(n,p)\n",
    "k = 25\n",
    "print(bin_h.cdf(k))\n",
    "# print(bin_m.cdf(k))"
   ]
  },
  {
   "cell_type": "code",
   "execution_count": null,
   "id": "8affbdfb",
   "metadata": {},
   "outputs": [],
   "source": []
  },
  {
   "cell_type": "code",
   "execution_count": null,
   "id": "d5a285b6",
   "metadata": {},
   "outputs": [],
   "source": []
  },
  {
   "cell_type": "code",
   "execution_count": 285,
   "id": "e98e9271",
   "metadata": {},
   "outputs": [
    {
     "data": {
      "text/plain": [
       "85.36"
      ]
     },
     "execution_count": 285,
     "metadata": {},
     "output_type": "execute_result"
    }
   ],
   "source": [
    "1.28*12+70"
   ]
  },
  {
   "cell_type": "code",
   "execution_count": 286,
   "id": "7ad22a43",
   "metadata": {},
   "outputs": [
    {
     "data": {
      "text/plain": [
       "-0.8888888888888886"
      ]
     },
     "execution_count": 286,
     "metadata": {},
     "output_type": "execute_result"
    }
   ],
   "source": [
    "z = (6.4 - 7.2)/0.9\n",
    "z"
   ]
  },
  {
   "cell_type": "code",
   "execution_count": 287,
   "id": "0962cbff",
   "metadata": {},
   "outputs": [
    {
     "data": {
      "text/plain": [
       "1.9999999999999998"
      ]
     },
     "execution_count": 287,
     "metadata": {},
     "output_type": "execute_result"
    }
   ],
   "source": [
    "z = (9 - 7.2)/0.9\n",
    "z"
   ]
  },
  {
   "cell_type": "code",
   "execution_count": 288,
   "id": "32c8b9f0",
   "metadata": {},
   "outputs": [
    {
     "data": {
      "text/plain": [
       "-1.2222222222222228"
      ]
     },
     "execution_count": 288,
     "metadata": {},
     "output_type": "execute_result"
    }
   ],
   "source": [
    "z = (6.1 - 7.2)/0.9\n",
    "z"
   ]
  },
  {
   "cell_type": "code",
   "execution_count": 289,
   "id": "00e5e1fd",
   "metadata": {},
   "outputs": [
    {
     "data": {
      "text/plain": [
       "1.6666666666666656"
      ]
     },
     "execution_count": 289,
     "metadata": {},
     "output_type": "execute_result"
    }
   ],
   "source": [
    "z = (8.7 - 7.2)/0.9\n",
    "z"
   ]
  },
  {
   "cell_type": "code",
   "execution_count": 291,
   "id": "c0477717",
   "metadata": {},
   "outputs": [
    {
     "data": {
      "text/plain": [
       "0.8413"
      ]
     },
     "execution_count": 291,
     "metadata": {},
     "output_type": "execute_result"
    }
   ],
   "source": [
    "1- 0.1112 - .0475"
   ]
  },
  {
   "cell_type": "code",
   "execution_count": 292,
   "id": "41f64e3c",
   "metadata": {},
   "outputs": [
    {
     "data": {
      "text/plain": [
       "8.325"
      ]
     },
     "execution_count": 292,
     "metadata": {},
     "output_type": "execute_result"
    }
   ],
   "source": [
    "1.25*0.9 + 7.2"
   ]
  },
  {
   "cell_type": "code",
   "execution_count": 293,
   "id": "0b98e149",
   "metadata": {},
   "outputs": [
    {
     "data": {
      "text/plain": [
       "0.6304347826086957"
      ]
     },
     "execution_count": 293,
     "metadata": {},
     "output_type": "execute_result"
    }
   ],
   "source": [
    "29/46"
   ]
  },
  {
   "cell_type": "code",
   "execution_count": 294,
   "id": "b577e26e",
   "metadata": {},
   "outputs": [
    {
     "data": {
      "text/plain": [
       "0.3695652173913043"
      ]
     },
     "execution_count": 294,
     "metadata": {},
     "output_type": "execute_result"
    }
   ],
   "source": [
    "17/46"
   ]
  },
  {
   "cell_type": "code",
   "execution_count": 295,
   "id": "25eec14e",
   "metadata": {},
   "outputs": [
    {
     "data": {
      "text/plain": [
       "1.7058823529411764"
      ]
     },
     "execution_count": 295,
     "metadata": {},
     "output_type": "execute_result"
    }
   ],
   "source": [
    "29/17"
   ]
  },
  {
   "cell_type": "code",
   "execution_count": 296,
   "id": "907ac573",
   "metadata": {},
   "outputs": [
    {
     "data": {
      "text/plain": [
       "1.7027027027027026"
      ]
     },
     "execution_count": 296,
     "metadata": {},
     "output_type": "execute_result"
    }
   ],
   "source": [
    "63/37"
   ]
  },
  {
   "cell_type": "code",
   "execution_count": 297,
   "id": "36aa14a5",
   "metadata": {},
   "outputs": [
    {
     "data": {
      "text/plain": [
       "0.26086956521739135"
      ]
     },
     "execution_count": 297,
     "metadata": {},
     "output_type": "execute_result"
    }
   ],
   "source": [
    "29/46 - 17/46"
   ]
  },
  {
   "cell_type": "code",
   "execution_count": 298,
   "id": "868f9881",
   "metadata": {},
   "outputs": [
    {
     "data": {
      "text/plain": [
       "0.34761120263591433"
      ]
     },
     "execution_count": 298,
     "metadata": {},
     "output_type": "execute_result"
    }
   ],
   "source": [
    "(211/818) / (607 / 818)"
   ]
  },
  {
   "cell_type": "code",
   "execution_count": 299,
   "id": "e9da8f37",
   "metadata": {},
   "outputs": [
    {
     "data": {
      "text/plain": [
       "0.06206896551724138"
      ]
     },
     "execution_count": 299,
     "metadata": {},
     "output_type": "execute_result"
    }
   ],
   "source": [
    "9 / 145"
   ]
  },
  {
   "cell_type": "code",
   "execution_count": 300,
   "id": "8f42532a",
   "metadata": {},
   "outputs": [
    {
     "data": {
      "text/plain": [
       "5.606451612903226"
      ]
     },
     "execution_count": 300,
     "metadata": {},
     "output_type": "execute_result"
    }
   ],
   "source": [
    ".3476 / .062"
   ]
  },
  {
   "cell_type": "code",
   "execution_count": 301,
   "id": "0332ae22",
   "metadata": {},
   "outputs": [
    {
     "data": {
      "text/plain": [
       "0.4444444444444444"
      ]
     },
     "execution_count": 301,
     "metadata": {},
     "output_type": "execute_result"
    }
   ],
   "source": [
    "40/90"
   ]
  },
  {
   "cell_type": "code",
   "execution_count": 302,
   "id": "60f8deb0",
   "metadata": {},
   "outputs": [
    {
     "data": {
      "text/plain": [
       "0.4507042253521127"
      ]
     },
     "execution_count": 302,
     "metadata": {},
     "output_type": "execute_result"
    }
   ],
   "source": [
    "32/71"
   ]
  },
  {
   "cell_type": "code",
   "execution_count": 303,
   "id": "8cfdc7ee",
   "metadata": {},
   "outputs": [
    {
     "data": {
      "text/plain": [
       "1.0157657657657657"
      ]
     },
     "execution_count": 303,
     "metadata": {},
     "output_type": "execute_result"
    }
   ],
   "source": [
    ".451 / 0.444"
   ]
  },
  {
   "cell_type": "code",
   "execution_count": null,
   "id": "d725b9a7",
   "metadata": {},
   "outputs": [],
   "source": []
  }
 ],
 "metadata": {
  "kernelspec": {
   "display_name": "Python 3",
   "language": "python",
   "name": "python3"
  },
  "language_info": {
   "codemirror_mode": {
    "name": "ipython",
    "version": 3
   },
   "file_extension": ".py",
   "mimetype": "text/x-python",
   "name": "python",
   "nbconvert_exporter": "python",
   "pygments_lexer": "ipython3",
   "version": "3.7.10"
  }
 },
 "nbformat": 4,
 "nbformat_minor": 5
}
