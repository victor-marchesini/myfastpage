{
 "cells": [
  {
   "cell_type": "markdown",
   "id": "1f849b61",
   "metadata": {},
   "source": [
    "Exercícios sobre dados quantitativos e qualitativos"
   ]
  },
  {
   "cell_type": "markdown",
   "id": "857270e2",
   "metadata": {},
   "source": [
    "## 1. O Serviço de Recursos Humanos de uma empresa norte-americana relatou que os salários anuais para os gerentes assistentes de lojas de departamento variam de 28 mil dólares a 57 mil dólares. Assuma que os seguintes dados são uma amostra dos salários anuais de 40 gerentes assistentes de lojas de departamento (os dados são em mil dólares): \n",
    "\n",
    "|||||||||||\n",
    "|--|--|--|--|--|--|--|--|--|--|\n",
    "|48 |35 |57 |48 |52 |56 |51 |52 |45 |44 |\n",
    "|40 |40 |50 |31 |52 |37 |51 |55 |41 |41 |\n",
    "|47 |45 |46 |42 |53 |43 |44 |46 |45 |39 |\n",
    "|50 |50 |44 |49 |55 |45 |50 |54 |47 |42 |\n",
    "         \n",
    "    a) Qual é a variável em estudo? Qual é o tipo desta variável?\n",
    "    \n",
    "    Resp: Salário, em milhares de reais. Variável quantitativa, contínua."
   ]
  },
  {
   "cell_type": "markdown",
   "id": "14d030fb",
   "metadata": {},
   "source": [
    "    b) Qual foi o salário mais alto e o mais baixo relatados? "
   ]
  },
  {
   "cell_type": "code",
   "execution_count": 6,
   "id": "c771b039",
   "metadata": {},
   "outputs": [
    {
     "name": "stdout",
     "output_type": "stream",
     "text": [
      "\tResp: Salário Mínimo = 31  Salário Máximo = 57\n"
     ]
    }
   ],
   "source": [
    "#collapse_input\n",
    "\n",
    "lista = [48, 35, 57, 48, 52, 56, 51, 52, 45, 44, \n",
    "         40, 40, 50, 31, 52, 37, 51, 55, 41, 41, \n",
    "         47, 45, 46, 42, 53, 43, 44, 46, 45, 39, \n",
    "         50, 50, 44, 49, 55, 45, 50, 54, 47, 42]\n",
    "\n",
    "minimo = min(lista)\n",
    "maximo = max(lista)\n",
    "\n",
    "print('\\tResp: Salário Mínimo = {}  Salário Máximo = {}'.format(minimo,maximo))"
   ]
  },
  {
   "cell_type": "markdown",
   "id": "6ed94eec",
   "metadata": {},
   "source": [
    "    c) Use uma amplitude de classe de 5 mil dólares e o limite inferior da 1ª classe como 30 mil dólares e, monte a tabela de distribuição de frequências (frequência absoluta, frequência absoluta acumulada, frequência relativa (%) e Frequência acumulada relativa (%));"
   ]
  },
  {
   "cell_type": "markdown",
   "id": "b2acc03e",
   "metadata": {},
   "source": [
    "    d) Que porcentagem dos salários anuais é inferior a 35 mil dólares?"
   ]
  },
  {
   "cell_type": "markdown",
   "id": "7978434d",
   "metadata": {},
   "source": [
    "    e) Que porcentagem dos salários anuais é superior ou igual a 50 mil  dólares?"
   ]
  },
  {
   "cell_type": "markdown",
   "id": "8d4d8861",
   "metadata": {},
   "source": [
    "    f) Construa um histograma a partir da tabela obtida em b). "
   ]
  },
  {
   "cell_type": "code",
   "execution_count": 2,
   "id": "0acf8ede",
   "metadata": {},
   "outputs": [],
   "source": [
    "lista = [48, 35, 57, 48, 52, 56, 51, 52, 45, 44, \n",
    "         40, 40, 50, 31, 52, 37, 51, 55, 41, 41, \n",
    "         47, 45, 46, 42, 53, 43, 44, 46, 45, 39, \n",
    "         50, 50, 44, 49, 55, 45, 50, 54, 47, 42]"
   ]
  },
  {
   "cell_type": "code",
   "execution_count": 3,
   "id": "b8383656",
   "metadata": {},
   "outputs": [
    {
     "data": {
      "text/plain": [
       "31"
      ]
     },
     "execution_count": 3,
     "metadata": {},
     "output_type": "execute_result"
    }
   ],
   "source": [
    "min(lista)"
   ]
  },
  {
   "cell_type": "code",
   "execution_count": null,
   "id": "0e44f9c1",
   "metadata": {},
   "outputs": [],
   "source": []
  },
  {
   "cell_type": "code",
   "execution_count": null,
   "id": "ba975886",
   "metadata": {},
   "outputs": [],
   "source": []
  },
  {
   "cell_type": "markdown",
   "id": "6b1b76f0",
   "metadata": {
    "tags": []
   },
   "source": [
    "\n",
    "\n",
    "\n",
    "\n",
    "\n",
    "\n",
    "\n",
    "\n",
    "\n",
    "\n",
    "\n",
    "\n",
    "\n",
    "    2. A tabela abaixo representa os salários pagos a 150 operários de uma empresa:\n",
    " \n",
    "Salários (em milhares de reais)\n",
    "Frequência de operários\n",
    "0|2\n",
    "50\n",
    "2|4\n",
    "40\n",
    "4|6\n",
    "20\n",
    "6|8\n",
    "25\n",
    "  8|10\n",
    "15\n",
    "\n",
    "    a) Qual é a variável em estudo? Qual é o tipo desta variável?\n",
    "    b) Qual é a largura das classes?\n",
    "    c) Quantos operários ganham menos que 6 salários mínimos?\n",
    "    d) Represente a tabela acima sob a forma de um histograma.\n",
    "\n",
    "    3. Entrevistamos 15 pessoas com curso superior que informaram os salários (milhares de R$/mês) mostrados abaixo:\n",
    "\n",
    "0,4\n",
    "2,5\n",
    "3,0\n",
    "3,0\n",
    "3,0\n",
    "3,2\n",
    "3,2\n",
    "3,5\n",
    "5,0\n",
    "5,0\n",
    "5,0\n",
    "5,5\n",
    "6,0\n",
    "7,4\n",
    "11\n",
    "\n",
    "    a) Qual é a variável em estudo? Qual é o tipo desta variável?\n",
    "    b) Use uma amplitude de classe de 2 mil reais e o limite inferior da 1ª classe como R$0,00 e, monte a tabela de distribuição de frequências (frequência absoluta, frequência absoluta acumulada, frequência relativa (%) e Frequência acumulada relativa (%)); \n",
    "    c) Represente a tabela obtida em a) sob a forma de diagrama de pontos.\n",
    "    d) Represente a tabela obtida em a) sob a forma de um histograma.\n",
    "    e) Qual é a diferença entre os 2 gráficos? \n",
    "\n",
    "    4. Foi feita uma votação em um condomínio para eleger o síndico. Havia três candidatos: Alice, Benedito e Clóvis.\n",
    "    a) Qual é a variável em estudo? Qual é o tipo desta variável?\n",
    "    b) Determine o número de votos por pessoa.\n",
    "    c) Calcule as porcentagens\n",
    "    d) Apresente os dados em uma tabela.\n",
    "    e) Apresente os dados em um gráfico.\n",
    "    f) Verifique se algum dos candidatos obteve maioria absoluta (50% + 1)? \n",
    "A votação foi a seguinte: Benedito, Alice, Alice, Clóvis, Alice, Benedito, Benedito, Benedito, Alice, Alice, Clóvis, Alice, Benedito, Benedito, Alice, Clóvis, Benedito, Benedito, Benedito, Alice.\n",
    "\n",
    "    5. Complete a tabela a seguir:\n",
    "\n",
    "Classes\n",
    "Ponto médio\n",
    "Frequência absoluta\n",
    "Frequência relativa (%)\n",
    "Frequência  acumulada\n",
    "\n",
    "\n",
    "\n",
    "2\n",
    "\n",
    "\n",
    "\n",
    "12\n",
    "\n",
    "\n",
    "62  65\n",
    "\n",
    "\n",
    "6\n",
    "\n",
    "\n",
    "66,5\n",
    "\n",
    "\n",
    "84\n",
    "\n",
    "\n",
    "\n",
    "\n",
    "126\n",
    "\n",
    "\n",
    "36\n",
    "\n",
    "\n",
    "\n",
    "\n",
    "\n",
    "\n",
    "225\n",
    "\n",
    "\n",
    "\n",
    "15\n",
    "\n",
    "\n",
    "\n",
    "\n",
    "\n",
    "300\n",
    "Total\n",
    "\n",
    "\n",
    "\n",
    "\n",
    "\n"
   ]
  },
  {
   "cell_type": "markdown",
   "id": "25c19d1f",
   "metadata": {},
   "source": [
    "## 4. Foi feita uma votação em um condomínio para eleger o síndico. Havia três candidatos: Alice, Benedito e Clóvis.\n",
    "    a) Qual é a variável em estudo? Qual é o tipo desta variável?\n",
    "    b) Determine o número de votos por pessoa.\n",
    "    c) Calcule as porcentagens\n",
    "    d) Apresente os dados em uma tabela.\n",
    "    e) Apresente os dados em um gráfico.\n",
    "    f) Verifique se algum dos candidatos obteve maioria absoluta (50% + 1)? \n",
    "\n",
    "A votação foi a seguinte: Benedito, Alice, Alice, Clóvis, Alice, Benedito, Benedito, Benedito, Alice, Alice, Clóvis, Alice, Benedito, Benedito, Alice, Clóvis, Benedito, Benedito, Benedito, Alice.\n"
   ]
  },
  {
   "cell_type": "markdown",
   "id": "87d49fef",
   "metadata": {},
   "source": [
    "> a) Qual é a variável em estudo? Qual é o tipo desta variável?\n",
    "    \n",
    "    Resp: candidados, qualitativa categórica (3 categorias)"
   ]
  },
  {
   "cell_type": "markdown",
   "id": "8cdfe664",
   "metadata": {},
   "source": [
    "> b) Determine o número de votos por pessoa."
   ]
  },
  {
   "cell_type": "code",
   "execution_count": 46,
   "id": "15c8edee",
   "metadata": {},
   "outputs": [
    {
     "data": {
      "text/html": [
       "<style  type=\"text/css\" >\n",
       "</style><table id=\"T_624fc_\" ><thead>    <tr>        <th class=\"blank level0\" ></th>        <th class=\"col_heading level0 col0\" >candidato</th>        <th class=\"col_heading level0 col1\" >votos</th>    </tr></thead><tbody>\n",
       "                <tr>\n",
       "                        <th id=\"T_624fc_level0_row0\" class=\"row_heading level0 row0\" >0</th>\n",
       "                        <td id=\"T_624fc_row0_col0\" class=\"data row0 col0\" >Benedito</td>\n",
       "                        <td id=\"T_624fc_row0_col1\" class=\"data row0 col1\" >9</td>\n",
       "            </tr>\n",
       "            <tr>\n",
       "                        <th id=\"T_624fc_level0_row1\" class=\"row_heading level0 row1\" >1</th>\n",
       "                        <td id=\"T_624fc_row1_col0\" class=\"data row1 col0\" >Alice</td>\n",
       "                        <td id=\"T_624fc_row1_col1\" class=\"data row1 col1\" >8</td>\n",
       "            </tr>\n",
       "            <tr>\n",
       "                        <th id=\"T_624fc_level0_row2\" class=\"row_heading level0 row2\" >2</th>\n",
       "                        <td id=\"T_624fc_row2_col0\" class=\"data row2 col0\" >Clóvis</td>\n",
       "                        <td id=\"T_624fc_row2_col1\" class=\"data row2 col1\" >3</td>\n",
       "            </tr>\n",
       "    </tbody></table>"
      ],
      "text/plain": [
       "<pandas.io.formats.style.Styler at 0x7ff73ed2fb50>"
      ]
     },
     "execution_count": 46,
     "metadata": {},
     "output_type": "execute_result"
    }
   ],
   "source": [
    "import pandas as pd\n",
    "votos = ['Benedito', 'Alice', 'Alice', 'Clóvis', 'Alice', 'Benedito', 'Benedito', 'Benedito', 'Alice', 'Alice', 'Clóvis', 'Alice', 'Benedito', 'Benedito', 'Alice', 'Clóvis', 'Benedito', 'Benedito', 'Benedito', 'Alice']\n",
    "categorias = pd.Series(votos).unique()\n",
    "categorias\n",
    "# votos.count()\n",
    "contagem = {cat:votos.count(cat) for cat in categorias}\n",
    "df = pd.DataFrame(list(contagem.items()),columns=['candidato','votos'])\n",
    "df.style"
   ]
  },
  {
   "cell_type": "markdown",
   "id": "a3048301",
   "metadata": {},
   "source": [
    "> c) Calcule as porcentagens"
   ]
  },
  {
   "cell_type": "code",
   "execution_count": 47,
   "id": "6cbd3854",
   "metadata": {},
   "outputs": [
    {
     "data": {
      "text/html": [
       "<div>\n",
       "<style scoped>\n",
       "    .dataframe tbody tr th:only-of-type {\n",
       "        vertical-align: middle;\n",
       "    }\n",
       "\n",
       "    .dataframe tbody tr th {\n",
       "        vertical-align: top;\n",
       "    }\n",
       "\n",
       "    .dataframe thead th {\n",
       "        text-align: right;\n",
       "    }\n",
       "</style>\n",
       "<table border=\"1\" class=\"dataframe\">\n",
       "  <thead>\n",
       "    <tr style=\"text-align: right;\">\n",
       "      <th></th>\n",
       "      <th>candidato</th>\n",
       "      <th>votos</th>\n",
       "    </tr>\n",
       "  </thead>\n",
       "  <tbody>\n",
       "    <tr>\n",
       "      <th>0</th>\n",
       "      <td>Benedito</td>\n",
       "      <td>9</td>\n",
       "    </tr>\n",
       "    <tr>\n",
       "      <th>1</th>\n",
       "      <td>Alice</td>\n",
       "      <td>8</td>\n",
       "    </tr>\n",
       "    <tr>\n",
       "      <th>2</th>\n",
       "      <td>Clóvis</td>\n",
       "      <td>3</td>\n",
       "    </tr>\n",
       "    <tr>\n",
       "      <th>3</th>\n",
       "      <td>total</td>\n",
       "      <td>20</td>\n",
       "    </tr>\n",
       "  </tbody>\n",
       "</table>\n",
       "</div>"
      ],
      "text/plain": [
       "  candidato  votos\n",
       "0  Benedito      9\n",
       "1     Alice      8\n",
       "2    Clóvis      3\n",
       "3     total     20"
      ]
     },
     "execution_count": 47,
     "metadata": {},
     "output_type": "execute_result"
    }
   ],
   "source": [
    "total = df['votos'].sum()\n",
    "df = df.append({'candidato':'total',\n",
    "           'votos':total},\n",
    "          ignore_index=True)\n",
    "# total\n",
    "df"
   ]
  },
  {
   "cell_type": "markdown",
   "id": "b1eca4e3",
   "metadata": {},
   "source": [
    "> d) Apresente os dados em uma tabela."
   ]
  },
  {
   "cell_type": "markdown",
   "id": "9d9298d7",
   "metadata": {},
   "source": [
    "> e) Apresente os dados em um gráfico."
   ]
  },
  {
   "cell_type": "markdown",
   "id": "32f174c7",
   "metadata": {},
   "source": [
    "> f) Verifique se algum dos candidatos obteve maioria absoluta (50% + 1)? "
   ]
  },
  {
   "cell_type": "code",
   "execution_count": null,
   "id": "2c57f214",
   "metadata": {
    "tags": []
   },
   "outputs": [],
   "source": []
  }
 ],
 "metadata": {
  "kernelspec": {
   "display_name": "Python 3",
   "language": "python",
   "name": "python3"
  },
  "language_info": {
   "codemirror_mode": {
    "name": "ipython",
    "version": 3
   },
   "file_extension": ".py",
   "mimetype": "text/x-python",
   "name": "python",
   "nbconvert_exporter": "python",
   "pygments_lexer": "ipython3",
   "version": "3.7.10"
  }
 },
 "nbformat": 4,
 "nbformat_minor": 5
}
