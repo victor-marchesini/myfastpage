{
 "cells": [
  {
   "cell_type": "markdown",
   "id": "507d97c6",
   "metadata": {},
   "source": [
    "# Atividade 2 - Lista de exercicios de amostragem\n",
    "> Lista de exercícios.\n",
    "\n",
    "- toc: true \n",
    "- badges: true\n",
    "- comments: true\n",
    "- categories:\n",
    "- image: images/chart-preview.png"
   ]
  },
  {
   "cell_type": "markdown",
   "id": "92c16713",
   "metadata": {},
   "source": [
    "## Questão 1"
   ]
  },
  {
   "cell_type": "code",
   "execution_count": null,
   "id": "39178c75",
   "metadata": {},
   "outputs": [],
   "source": [
    "N_mulheres = 6500\n",
    "N_homens = 5500\n",
    "n_amostra = 1200"
   ]
  },
  {
   "cell_type": "code",
   "execution_count": null,
   "id": "512ee18a",
   "metadata": {},
   "outputs": [],
   "source": [
    "N_populacao = N_mulheres + N_homens\n",
    "N_populacao"
   ]
  },
  {
   "cell_type": "code",
   "execution_count": null,
   "id": "71606d91",
   "metadata": {},
   "outputs": [],
   "source": [
    "f_a = n_amostra / N_populacao\n",
    "f_a"
   ]
  },
  {
   "cell_type": "code",
   "execution_count": null,
   "id": "d1a759cf",
   "metadata": {},
   "outputs": [],
   "source": [
    "n_mulheres = N_mulheres * f_a\n",
    "n_homens = N_homens * f_a\n",
    "\n",
    "print('A amostra deve ter {:.0f} mulheres e {:.0f} homens.'.format(n_mulheres, n_homens))"
   ]
  },
  {
   "cell_type": "markdown",
   "id": "0fbdf137",
   "metadata": {},
   "source": [
    "## Questão 2"
   ]
  },
  {
   "cell_type": "code",
   "execution_count": null,
   "id": "d10afe63",
   "metadata": {},
   "outputs": [],
   "source": [
    "N = 2590\n",
    "n = 35\n",
    "\n",
    "intervalo = N / n\n",
    "print('intervalo:',intervalo)\n",
    "[(x - 1546)/intervalo for x in [242, 636, 1028]]"
   ]
  },
  {
   "cell_type": "code",
   "execution_count": null,
   "id": "dac48501",
   "metadata": {},
   "outputs": [],
   "source": [
    "1546 % intervalo"
   ]
  },
  {
   "cell_type": "code",
   "execution_count": null,
   "id": "76721a5f",
   "metadata": {},
   "outputs": [],
   "source": [
    "1028 % intervalo"
   ]
  },
  {
   "cell_type": "markdown",
   "id": "4d0dfd1e",
   "metadata": {},
   "source": [
    "## Questão 3"
   ]
  },
  {
   "cell_type": "code",
   "execution_count": null,
   "id": "21ad7d86",
   "metadata": {},
   "outputs": [],
   "source": [
    "# a\n",
    "\n",
    "N = 200000"
   ]
  },
  {
   "cell_type": "code",
   "execution_count": null,
   "id": "347e3038",
   "metadata": {},
   "outputs": [],
   "source": [
    "# b\n",
    "n = 5000\n",
    "f_a = n/N\n",
    "f_a"
   ]
  },
  {
   "cell_type": "code",
   "execution_count": null,
   "id": "1ebff289",
   "metadata": {},
   "outputs": [],
   "source": [
    "import numpy as np\n",
    "lista = np.array([80, 26, 9, 65, 15, 5])*1000\n",
    "lista*f_a"
   ]
  },
  {
   "cell_type": "markdown",
   "id": "4d4f9a3a",
   "metadata": {},
   "source": [
    "## Questão 4"
   ]
  },
  {
   "cell_type": "code",
   "execution_count": null,
   "id": "16ad1376",
   "metadata": {},
   "outputs": [],
   "source": [
    "Xi = 600\n",
    "Xj = 440\n",
    "intervalo - 1800 / 100\n",
    "\n",
    "(Xi - Xj) / intervalo"
   ]
  },
  {
   "cell_type": "markdown",
   "id": "1297d375",
   "metadata": {},
   "source": [
    "##  Questão 7"
   ]
  },
  {
   "cell_type": "code",
   "execution_count": 30,
   "id": "e1acf228",
   "metadata": {},
   "outputs": [],
   "source": [
    "import pandas as pd\n",
    "import numpy as np\n",
    "from numpy.random import default_rng\n",
    "\n",
    "rng = default_rng()"
   ]
  },
  {
   "cell_type": "code",
   "execution_count": 31,
   "id": "5bd9a52a",
   "metadata": {},
   "outputs": [],
   "source": [
    "q1 = [4,3,4,5,5,5,3,2,2,4]\n",
    "q2 = [5,5,2,5,5,7,3,2,4,4]\n",
    "q3 = [2,4,5,4,6,3,3,4,3,2]\n",
    "q4 = [2,4,6,4,3,5,3,4,3,2]\n",
    "q5 = [4,2,5,5,5,6,4,5,3,4]\n",
    "q6 = [4,4,5,5,5,6,4,6,5,4]\n",
    "#####\n",
    "q7 = [8,8,7,5,13,8,8,9,7,6]\n",
    "q8 = [5,6,5,8,13,9,8,4,9,4]\n",
    "q9 = [9,7,7,5,12,10,7,6,7,8]\n",
    "\n"
   ]
  },
  {
   "cell_type": "code",
   "execution_count": 38,
   "id": "3f4a6c44",
   "metadata": {},
   "outputs": [
    {
     "name": "stdout",
     "output_type": "stream",
     "text": [
      "media: 5.222222222222222\n",
      "mediana: 5.0\n"
     ]
    }
   ],
   "source": [
    "q_todos = np.array(q1+q2+q3+q4+q5+q6+q7+q8+q9)\n",
    "\n",
    "print('media:',q_todos.mean())\n",
    "print('mediana:',np.percentile(q_todos,50))"
   ]
  },
  {
   "cell_type": "markdown",
   "id": "38215c18",
   "metadata": {},
   "source": [
    "### a) Ignorando os estratos, selecionar uma amostra aleatória simples de 9 domicílios. Anotar o número de cômodos dos domicílios selecionados na amostra."
   ]
  },
  {
   "cell_type": "code",
   "execution_count": 32,
   "id": "3f8a4cf1",
   "metadata": {},
   "outputs": [
    {
     "name": "stdout",
     "output_type": "stream",
     "text": [
      "90\n",
      "número de cômodos: [ 8 10  7  8  6  6  4  3  6]\n",
      "média: 6.444444444444445 mediana: 6.0\n"
     ]
    }
   ],
   "source": [
    "q_todos = pd.Series(q1+q2+q3+q4+q5+q6+q7+q8+q9)\n",
    "print(len(q_todos))\n",
    "numbers = rng.choice(90, size=9, replace=False)\n",
    "q_sel = q_todos[numbers]\n",
    "print('número de cômodos:',q_sel.values)\n",
    "media = q_sel.mean()\n",
    "mediana = np.percentile(q_sel,50)\n",
    "print('média:',media,'mediana:',mediana)"
   ]
  },
  {
   "cell_type": "markdown",
   "id": "167c58a5",
   "metadata": {},
   "source": [
    "### b) Selecionar uma amostra estratificada proporcional de 9 domicílios. Anotar o número de cômodos dos domicílios selecionados na amostra."
   ]
  },
  {
   "cell_type": "code",
   "execution_count": 33,
   "id": "f441fa46",
   "metadata": {},
   "outputs": [
    {
     "name": "stdout",
     "output_type": "stream",
     "text": [
      "60 30\n",
      "Estrato A: [3 6 2 5 5 4]\n",
      "Estrato B: [10  8  9]\n",
      "média: 5.777777777777778 mediana: 5.0\n"
     ]
    }
   ],
   "source": [
    "qA = pd.Series(q1+q2+q3+q4+q5+q6)\n",
    "qB = pd.Series(q7+q8+q9)\n",
    "print(len(qA),len(qB))\n",
    "\n",
    "nA = rng.choice(60, size=6, replace=False)\n",
    "nB = rng.choice(30, size=3, replace=False)\n",
    "A_values = qA[nA].values\n",
    "B_values = qB[nB].values\n",
    "print('Estrato A:',A_values)\n",
    "print('Estrato B:',B_values)\n",
    "q_sel = np.append(A_values,B_values)\n",
    "# q_sel.sort()\n",
    "# q_sel\n",
    "media = q_sel.mean()\n",
    "mediana = np.percentile(q_sel,50)\n",
    "print('média:',media,'mediana:',mediana)"
   ]
  },
  {
   "cell_type": "markdown",
   "id": "66b02a9b",
   "metadata": {},
   "source": [
    "### c) Extrair uma amostra aleatória de tamanho 9, através de uma amostragem de conglomerados em dois estágios. No primeiro estágio selecione 3 quarteirões e, no segundo estágio, 3 domicílios em cada conglomerado selecionado. Anotar o número de cômodos dos domicílios selecionados na amostra."
   ]
  },
  {
   "cell_type": "code",
   "execution_count": 34,
   "id": "4198a082",
   "metadata": {},
   "outputs": [
    {
     "name": "stdout",
     "output_type": "stream",
     "text": [
      "quarteiroes selecionados: [8 3 5]\n",
      "lista de valores: [[6, 5, 9], [3, 2, 4], [4, 6, 5]]\n",
      "média: 4.888888888888889 mediana: 5.0\n"
     ]
    }
   ],
   "source": [
    "q_list = pd.Series([q1,q2,q3,q4,q5,q6,q7,q8,q9])\n",
    "q_list\n",
    "# print(len(q_list))\n",
    "\n",
    "stage1 = rng.choice(9, size=3, replace=False)\n",
    "\n",
    "print('quarteiroes selecionados: {}'.format(stage1 + 1))\n",
    "\n",
    "# print(q_list[stage1])\n",
    "lista_valores = []\n",
    "for q in q_list[stage1]:\n",
    "    stage2 = rng.choice(10, size=3, replace=False)\n",
    "    lista_valores.append(pd.Series(q)[stage2].to_list())\n",
    "#     print(pd.Series(q)[stage2])\n",
    "# stage2 = rng.choice(10, size=3, replace=False)\n",
    "# print(stage1,stage2)\n",
    "# lista_valores = pd.Series(q)[stage2].to_list()\n",
    "print('lista de valores:',lista_valores)\n",
    "\n",
    "q_sel = np.array(lista_valores)\n",
    "# q_sel.sort()\n",
    "# q_sel\n",
    "media = q_sel.mean()\n",
    "mediana = np.percentile(q_sel,50)\n",
    "print('média:',media,'mediana:',mediana)"
   ]
  },
  {
   "cell_type": "markdown",
   "id": "3d1b82b5",
   "metadata": {},
   "source": [
    "### d) Comparar os resultados e comentar sobre as eventuais semelhanças ou discrepâncias. Qual dos itens terá um resultado mais preciso, por quê?"
   ]
  },
  {
   "cell_type": "code",
   "execution_count": null,
   "id": "c7f8214c",
   "metadata": {},
   "outputs": [],
   "source": []
  },
  {
   "cell_type": "markdown",
   "id": "4ffad0cb",
   "metadata": {},
   "source": [
    "##  Questão 8"
   ]
  },
  {
   "cell_type": "markdown",
   "id": "93531250",
   "metadata": {},
   "source": [
    "Analise os planos de amostragens apresentados abaixo. Você concorda com a maneira como foram elaborados?\n",
    "Justifique. Apresente as soluções que julgar necessárias.\n",
    "\n",
    "**a) Para analisar os laboratórios de pesquisa quanto ao seu investimento na aquisição de tecnologia de ponta, foram enviados questionários e analisadas as respostas daqueles que responderam ao questionário.**\n",
    "    \n",
    "**Resposta**: Não concordo. Acredito que deveria ser utilizado algum critério ara definir os laboratórios a serem avaliados, como área de pesquisa, localização (Ex: região) ou faixa de orçamento, e depois entrar em contato com responsáveis pelos mesmos para obter as respostas dos questionários\n",
    "    \n",
    "**c) Há interesse em medir o índice de luminosidade das salas de aula da EACH. A coleta de dados será feita em todos os prédios, durante os períodos diurno e noturno, nas salas que estiveram desocupadas no momento da pesquisa. Cada prédio será visitado apenas uma vez.**\n",
    "    \n",
    "**Resposta**: Não concordo. A informação mais útil é sobre a iluminação durante o uso das salas. Pesquisar apenas salas desocupadas pode introduzir um viés para os dados caso, por exemplo, as salas que necessitam de manutenção sejam as que costumam ficar desocupadas. Poderiam ser feitos sorteios antecipadamente das salas/andares a serem avaliados, e se for o caso estratificar por tamanho ou tipo (sala de aula, auditório, laboratório, etc.)\n",
    "    \n",
    "**d) As constantes reclamações dos usuários motivaram a direção da Biblioteca Central da USP a realizar uma pesquisa sobre o nível de ruído em suas dependências. O ruído será medido em todas as seções da Biblioteca, na primeira e na penúltima semanas do semestre, de segunda à sábado, durante todo o horário de funcionamento.**\n",
    "\n",
    "**Resposta**: Não concordo. O uso da biblioteca pode variar muito ao longo do ano, sendo que durante a primeira e a penúltima semanas do semestre o uso pode ser muito diferente do que as demais.\n",
    "    \n",
    "**f) No controle de qualidade de uma fábrica de peças, que trabalha 24 horas por dia, sete dias por semana, um item produzido é retirado de cada máquina, a cada meia hora, para avaliação. O procedimento é feito durante todo o dia, ao longo da semana.**\n",
    "\n",
    "**Resposta**: Concordo. Para um controle de qualidade, essa amostragem me parece adequada. Não saberia avaliar a frequência ideal (no caso proposto, a cada 30 minutos). Penso que isso dependerá muito de características e quantidades envolvidas no processo de produção.\n",
    "    \n",
    "**h) Com a finalidade de estudar o perfil dos consumidores de um supermercado, observaram-se os consumidores que compareceram ao supermercado no primeiro sábado do mês.**\n",
    "\n",
    "**Resposta**: Não concordo. O perfil de consumo deve variar bastante tanto ao longo dos dias de semana quanto ao longo das semanas do mês. Obs: a não ser que o objetivo seja avaliar o comportamente em relação a intens que já se sabe a priori que costumam ser consumidos no primeiro sábado do mês.\n",
    "    \n",
    "**i) Com a finalidade de estudar o perfil dos consumidores de um supermercado, fez-se a coleta de dados durante um mês, tomando a cada dia um consumidor de cada fila de cada caixa, variando-se sistematicamente o horário de coleta dos dados.**\n",
    "\n",
    "**Resposta**: Considerando um caso mais geral de perfil de consumo, esse levantamento me pareceu adequado. Uma precaução seria conseguir boa variação de dias e horários, por exemplo: não avaliar sempre o primeiro horário na segunda e o último horário no domingo.\n",
    "    \n",
    "**j) Para avaliar a qualidade dos itens que saem de uma linha de produção, observaram-se todos os itens das 14h00min às 14h30min.**\n",
    "    \n",
    "**Resposta**: Como em geral as linhas de produção são propensas a variações ao longo do dia, devido a fatores como temperatura, luminosidade e escalas de trabalho, amostrar sempre no mesmo horário pode resultar em amostras não representativas do que acontece em todo o dia.\n",
    "    \n",
    "**k) Para avaliar a qualidade dos itens que saem de uma linha de produção, observou-se um item a cada meia hora, durante todo o dia.**\n",
    "\n",
    "**Resposta**: Considerando um caso mais geral de funcionamento das linhas de produção, esse levantamento me pareceu adequado. A frequência ideal (no caso proposto, a cada 30 minutos) também parece razoável, mas pode variar muito a depender das características e quantidades envolvidas no processo de produção.\n",
    "    \n",
    "**l) Para estimar a porcentagem de empresas que investiram em novas tecnologias no último ano, enviou-se um questionário a todas as empresas de um estado. A amostra foi formada pelas empresas que responderam ao questionário.**\n",
    "    \n",
    "**Resposta**: Não concordo. Existe uma possibilidade razoável de que o questionário seja respondido com mais frequência por empresas que priorizam investimentos em novas tecnologias. Em contrapartida, por ter enviado a todas as empresas, esse método tem um potencial bom de conseguir uma amostra representativa. Portanto, caso se obtenha um número de respostas muito alto, pode-se obter um bom nível de confiança em relaçação à representatividade da amostra. Uma alternativa seria estratificar segundo algum critério relevante para o tema, definir um número de amostras para cada estrato e sortear empresas para responderem a pesquisa."
   ]
  }
 ],
 "metadata": {
  "kernelspec": {
   "display_name": "Python 3",
   "language": "python",
   "name": "python3"
  },
  "language_info": {
   "codemirror_mode": {
    "name": "ipython",
    "version": 3
   },
   "file_extension": ".py",
   "mimetype": "text/x-python",
   "name": "python",
   "nbconvert_exporter": "python",
   "pygments_lexer": "ipython3",
   "version": "3.7.10"
  }
 },
 "nbformat": 4,
 "nbformat_minor": 5
}
