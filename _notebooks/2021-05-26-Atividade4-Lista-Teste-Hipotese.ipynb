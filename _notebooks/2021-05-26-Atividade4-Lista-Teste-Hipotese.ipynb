{
 "cells": [
  {
   "cell_type": "markdown",
   "id": "711c80ae-7829-4b3a-9309-299eed31036e",
   "metadata": {},
   "source": [
    "# EAH5002 – Lista de exercícios sobre teste de hipóteses\n",
    "> Profa Ana Amélia Benedito Silva – maio 2021"
   ]
  },
  {
   "cell_type": "raw",
   "id": "b8a5888b-5ef9-4023-a618-82d2a93783f6",
   "metadata": {},
   "source": [
    "Exercício 1\n",
    "\n",
    "A distribuição das pressões sanguíneas diastólicas para a população de mulheres diabéticas entre as idades de 30 e 34 anos tem uma média mi_d desconhecida e desvio padrão sigma_d = 9,1 mmHg. Pode ser útil aos médicos conhecerem se a média dessa população é igual à pressão sanguínea diastólica média da população geral de mulheres desse grupo de idade que é igual à 74,4 mmHg.\n",
    "\n",
    "        (a) Qual é a hipótese nula do teste apropriado?\n",
    "        (b) Qual é a hipótese alternativa?\n",
    "        (c) Uma amostra de dez mulheres diabéticas é selecionada; sua pressão sanguínea diastólica média é = 84 mmHg. Usando essa informação, conduza um teste bilateral ao nível de significância = 0,05. Qual é o nível descritivo do teste?\n",
    "        (d) Que conclusão você extrai dos resultados do teste?\n",
    "        (e) Sua conclusão teria sido diferente se você tivesse escolhido  = 0,01 ao invés de  = 0,05?"
   ]
  },
  {
   "cell_type": "code",
   "execution_count": null,
   "id": "77215364-b9b5-4409-92b4-e7d4e2d1de96",
   "metadata": {},
   "outputs": [],
   "source": []
  }
 ],
 "metadata": {
  "kernelspec": {
   "display_name": "Python 3",
   "language": "python",
   "name": "python3"
  },
  "language_info": {
   "codemirror_mode": {
    "name": "ipython",
    "version": 3
   },
   "file_extension": ".py",
   "mimetype": "text/x-python",
   "name": "python",
   "nbconvert_exporter": "python",
   "pygments_lexer": "ipython3",
   "version": "3.7.10"
  }
 },
 "nbformat": 4,
 "nbformat_minor": 5
}
